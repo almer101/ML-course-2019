{
 "cells": [
  {
   "cell_type": "markdown",
   "metadata": {},
   "source": [
    "Sveučilište u Zagrebu  \n",
    "Fakultet elektrotehnike i računarstva  \n",
    "  \n",
    "## Strojno učenje 2019/2020  \n",
    "http://www.fer.unizg.hr/predmet/su"
   ]
  },
  {
   "cell_type": "markdown",
   "metadata": {},
   "source": [
    "------------------------------\n",
    "\n",
    "### Laboratorijska vježba 1: Regresija\n",
    "\n",
    "*Verzija: 1.2  \n",
    "Zadnji put ažurirano: 27. rujna 2019.*\n",
    "\n",
    "(c) 2015-2019 Jan Šnajder, Domagoj Alagić \n",
    "\n",
    "Objavljeno: **30. rujna 2019.**  \n",
    "Rok za predaju: **21. listopada 2019. u 07:00h**\n",
    "\n",
    "------------------------------"
   ]
  },
  {
   "cell_type": "markdown",
   "metadata": {},
   "source": [
    "### Upute\n",
    "\n",
    "Prva laboratorijska vježba sastoji se od deset zadataka. U nastavku slijedite upute navedene u ćelijama s tekstom. Rješavanje vježbe svodi se na **dopunjavanje ove bilježnice**: umetanja ćelije ili više njih **ispod** teksta zadatka, pisanja odgovarajućeg kôda te evaluiranja ćelija. \n",
    "\n",
    "Osigurajte da u potpunosti **razumijete** kôd koji ste napisali. Kod predaje vježbe, morate biti u stanju na zahtjev asistenta (ili demonstratora) preinačiti i ponovno evaluirati Vaš kôd. Nadalje, morate razumjeti teorijske osnove onoga što radite, u okvirima onoga što smo obradili na predavanju. Ispod nekih zadataka možete naći i pitanja koja služe kao smjernice za bolje razumijevanje gradiva (**nemojte pisati** odgovore na pitanja u bilježnicu). Stoga se nemojte ograničiti samo na to da riješite zadatak, nego slobodno eksperimentirajte. To upravo i jest svrha ovih vježbi.\n",
    "\n",
    "Vježbe trebate raditi **samostalno**. Možete se konzultirati s drugima o načelnom načinu rješavanja, ali u konačnici morate sami odraditi vježbu. U protivnome vježba nema smisla."
   ]
  },
  {
   "cell_type": "code",
   "execution_count": 6,
   "metadata": {},
   "outputs": [
    {
     "name": "stdout",
     "output_type": "stream",
     "text": [
      "Populating the interactive namespace from numpy and matplotlib\n"
     ]
    },
    {
     "name": "stderr",
     "output_type": "stream",
     "text": [
      "/usr/local/lib/python3.7/site-packages/IPython/core/magics/pylab.py:160: UserWarning: pylab import has clobbered these variables: ['f']\n",
      "`%matplotlib` prevents importing * from pylab and numpy\n",
      "  \"\\n`%matplotlib` prevents importing * from pylab and numpy\"\n"
     ]
    }
   ],
   "source": [
    "# Učitaj osnovne biblioteke...\n",
    "import numpy as np\n",
    "import sklearn\n",
    "import matplotlib.pyplot as plt\n",
    "%pylab inline"
   ]
  },
  {
   "cell_type": "markdown",
   "metadata": {},
   "source": [
    "## Zadatci"
   ]
  },
  {
   "cell_type": "markdown",
   "metadata": {},
   "source": [
    "### 1. Jednostavna regresija"
   ]
  },
  {
   "cell_type": "markdown",
   "metadata": {},
   "source": [
    "Zadan je skup primjera $\\mathcal{D}=\\{(x^{(i)},y^{(i)})\\}_{i=1}^4 = \\{(0,4),(1,1),(2,2),(4,5)\\}$. Primjere predstavite matrixom $\\mathbf{X}$ dimenzija $N\\times n$ (u ovom slučaju $4\\times 1$) i vektorom oznaka $\\textbf{y}$, dimenzija $N\\times 1$ (u ovom slučaju $4\\times 1$), na sljedeći način:\n"
   ]
  },
  {
   "cell_type": "code",
   "execution_count": 37,
   "metadata": {},
   "outputs": [],
   "source": [
    "X = np.array([[0],[1],[2],[4]])\n",
    "y = np.array([4,1,2,5])"
   ]
  },
  {
   "cell_type": "markdown",
   "metadata": {},
   "source": [
    "### (a)\n",
    "\n",
    "Proučite funkciju [`PolynomialFeatures`](http://scikit-learn.org/stable/modules/generated/sklearn.preprocessing.PolynomialFeatures.html) iz biblioteke `sklearn` i upotrijebite je za generiranje matrice dizajna $\\mathbf{\\Phi}$ koja ne koristi preslikavanje u prostor više dimenzije (samo će svakom primjeru biti dodane *dummy* jedinice; $m=n+1$).\n"
   ]
  },
  {
   "cell_type": "code",
   "execution_count": 9,
   "metadata": {},
   "outputs": [],
   "source": [
    "from sklearn.preprocessing import PolynomialFeatures"
   ]
  },
  {
   "cell_type": "code",
   "execution_count": 5,
   "metadata": {},
   "outputs": [
    {
     "data": {
      "text/plain": [
       "array([[1., 0.],\n",
       "       [1., 1.],\n",
       "       [1., 2.],\n",
       "       [1., 4.]])"
      ]
     },
     "execution_count": 5,
     "metadata": {},
     "output_type": "execute_result"
    }
   ],
   "source": [
    "# Vaš kôd ovdje\n",
    "\n",
    "poly = PolynomialFeatures(degree=1)\n",
    "phi = poly.fit_transform(X)\n",
    "phi"
   ]
  },
  {
   "cell_type": "markdown",
   "metadata": {},
   "source": [
    "### (b)"
   ]
  },
  {
   "cell_type": "markdown",
   "metadata": {},
   "source": [
    "Upoznajte se s modulom [`linalg`](http://docs.scipy.org/doc/numpy/reference/routines.linalg.html). Izračunajte težine $\\mathbf{w}$ modela linearne regresije kao $\\mathbf{w}=(\\mathbf{\\Phi}^\\intercal\\mathbf{\\Phi})^{-1}\\mathbf{\\Phi}^\\intercal\\mathbf{y}$. Zatim se uvjerite da isti rezultat možete dobiti izračunom pseudoinverza $\\mathbf{\\Phi}^+$ matrice dizajna, tj. $\\mathbf{w}=\\mathbf{\\Phi}^+\\mathbf{y}$, korištenjem funkcije [`pinv`](http://docs.scipy.org/doc/numpy/reference/generated/numpy.linalg.pinv.html)."
   ]
  },
  {
   "cell_type": "code",
   "execution_count": 8,
   "metadata": {},
   "outputs": [],
   "source": [
    "from numpy import linalg"
   ]
  },
  {
   "cell_type": "code",
   "execution_count": 9,
   "metadata": {},
   "outputs": [
    {
     "name": "stdout",
     "output_type": "stream",
     "text": [
      "[2.2        0.45714286]\n",
      "[2.2        0.45714286]\n"
     ]
    }
   ],
   "source": [
    "# Vaš kôd ovdje\n",
    "\n",
    "pseudoInv = np.matmul(inv(np.matmul(phi.transpose(), phi)), phi.transpose())\n",
    "pseudoInv\n",
    "w = np.matmul(pseudoInv, y)\n",
    "print(w)\n",
    "\n",
    "w = np.matmul(pinv(phi), y)\n",
    "print(w)"
   ]
  },
  {
   "cell_type": "markdown",
   "metadata": {},
   "source": [
    "Radi jasnoće, u nastavku je vektor $\\mathbf{x}$ s dodanom *dummy* jedinicom $x_0=1$ označen kao $\\tilde{\\mathbf{x}}$."
   ]
  },
  {
   "cell_type": "markdown",
   "metadata": {},
   "source": [
    "### (c)"
   ]
  },
  {
   "cell_type": "markdown",
   "metadata": {},
   "source": [
    "Prikažite primjere iz $\\mathcal{D}$ i funkciju $h(\\tilde{\\mathbf{x}})=\\mathbf{w}^\\intercal\\tilde{\\mathbf{x}}$. Izračunajte pogrešku učenja prema izrazu $E(h|\\mathcal{D})=\\frac{1}{2}\\sum_{i=1}^N(\\tilde{\\mathbf{y}}^{(i)} - h(\\tilde{\\mathbf{x}}))^2$. Možete koristiti funkciju srednje kvadratne pogreške [`mean_squared_error`]( http://scikit-learn.org/stable/modules/generated/sklearn.metrics.mean_squared_error.html) iz modula [`sklearn.metrics`](http://scikit-learn.org/stable/modules/classes.html#module-sklearn.metrics).\n",
    "\n",
    "**Q:** Gore definirana funkcija pogreške $E(h|\\mathcal{D})$ i funkcija srednje kvadratne pogreške nisu posve identične. U čemu je razlika? Koja je \"realnija\"?"
   ]
  },
  {
   "cell_type": "code",
   "execution_count": 10,
   "metadata": {},
   "outputs": [
    {
     "data": {
      "image/png": "[encoded data removed]",
      "text/plain": [
       "<Figure size 432x288 with 1 Axes>"
      ]
     },
     "metadata": {
      "needs_background": "light"
     },
     "output_type": "display_data"
    },
    {
     "data": {
      "text/plain": [
       "2.042857142857143"
      ]
     },
     "execution_count": 10,
     "metadata": {},
     "output_type": "execute_result"
    }
   ],
   "source": [
    "# Vaš kôd ovdje\n",
    "from sklearn.metrics import mean_squared_error\n",
    "\n",
    "plt.scatter(X,y)\n",
    "hx = np.matmul(phi, w.transpose())\n",
    "plt.plot(X, hx)\n",
    "plt.show()\n",
    "\n",
    "e = mean_squared_error(y, hx)\n",
    "e"
   ]
  },
  {
   "cell_type": "markdown",
   "metadata": {},
   "source": [
    "### (d)"
   ]
  },
  {
   "cell_type": "markdown",
   "metadata": {},
   "source": [
    "Uvjerite se da za primjere iz $\\mathcal{D}$ težine $\\mathbf{w}$ ne možemo naći rješavanjem sustava $\\mathbf{w}=\\mathbf{\\Phi}^{-1}\\mathbf{y}$, već da nam doista treba pseudoinverz.\n",
    "\n",
    "**Q:** Zašto je to slučaj? Bi li se problem mogao riješiti preslikavanjem primjera u višu dimenziju? Ako da, bi li to uvijek funkcioniralo, neovisno o skupu primjera $\\mathcal{D}$? Pokažite na primjeru."
   ]
  },
  {
   "cell_type": "code",
   "execution_count": 11,
   "metadata": {},
   "outputs": [
    {
     "data": {
      "text/plain": [
       "array([ 4.        , -5.91666667,  3.375     , -0.45833333])"
      ]
     },
     "execution_count": 11,
     "metadata": {},
     "output_type": "execute_result"
    }
   ],
   "source": [
    "# Vaš kôd ovdje\n",
    "\n",
    "# invertedPhi = inv(phi)\n",
    "\n",
    "poly3 = PolynomialFeatures(degree=3)\n",
    "phi3 = poly3.fit_transform(X)\n",
    "phi3\n",
    "\n",
    "invertedPhi = inv(phi3)\n",
    "invertedPhi\n",
    "\n",
    "w = np.matmul(invertedPhi, y)\n",
    "w"
   ]
  },
  {
   "cell_type": "markdown",
   "metadata": {},
   "source": [
    "### (e) "
   ]
  },
  {
   "cell_type": "markdown",
   "metadata": {},
   "source": [
    "Proučite klasu [`LinearRegression`](http://scikit-learn.org/stable/modules/generated/sklearn.linear_model.LinearRegression.html) iz modula [`sklearn.linear_model`](http://scikit-learn.org/stable/modules/classes.html#module-sklearn.linear_model). Uvjerite se da su težine koje izračunava ta funkcija (dostupne pomoću atributa `coef_` i `intercept_`) jednake onima koje ste izračunali gore. Izračunajte predikcije modela (metoda `predict`) i uvjerite se da je pogreška učenja identična onoj koju ste ranije izračunali."
   ]
  },
  {
   "cell_type": "code",
   "execution_count": 13,
   "metadata": {},
   "outputs": [],
   "source": [
    "from sklearn.linear_model import LinearRegression"
   ]
  },
  {
   "cell_type": "code",
   "execution_count": 14,
   "metadata": {},
   "outputs": [
    {
     "name": "stdout",
     "output_type": "stream",
     "text": [
      "[0.45714286]\n",
      "2.2\n",
      "[0.         0.45714286]\n",
      "2.2\n"
     ]
    },
    {
     "data": {
      "text/plain": [
       "2.042857142857143"
      ]
     },
     "execution_count": 14,
     "metadata": {},
     "output_type": "execute_result"
    }
   ],
   "source": [
    "# Vaš kôd ovdje\n",
    "\n",
    "reg = LinearRegression().fit(X, y)\n",
    "print(reg.coef_)\n",
    "print(reg.intercept_)\n",
    "reg = LinearRegression().fit(phi, y)\n",
    "print(reg.coef_)\n",
    "print(reg.intercept_)\n",
    "\n",
    "y_pred = reg.predict(phi)\n",
    "mean_squared_error(y, y_pred)"
   ]
  },
  {
   "cell_type": "markdown",
   "metadata": {},
   "source": [
    "### 2. Polinomijalna regresija i utjecaj šuma"
   ]
  },
  {
   "cell_type": "markdown",
   "metadata": {},
   "source": [
    "# (a)\n",
    "\n",
    "Razmotrimo sada regresiju na većem broju primjera. Definirajte funkciju `make_labels(X, f, noise=0)` koja uzima matricu neoznačenih primjera $\\mathbf{X}_{N\\times n}$ te generira vektor njihovih oznaka $\\mathbf{y}_{N\\times 1}$. Oznake se generiraju kao $y^{(i)} = f(x^{(i)})+\\mathcal{N}(0,\\sigma^2)$, gdje je $f:\\mathbb{R}^n\\to\\mathbb{R}$ stvarna funkcija koja je generirala podatke (koja nam je u stvarnosti nepoznata), a $\\sigma$ je standardna devijacija Gaussovog šuma, definirana parametrom `noise`. Za generiranje šuma možete koristiti funkciju [`numpy.random.normal`](https://docs.scipy.org/doc/numpy-1.15.0/reference/generated/numpy.random.normal.html). \n",
    "\n",
    "Generirajte skup za učenje od $N=50$ primjera uniformno distribuiranih u intervalu $[-5,5]$ pomoću funkcije $f(x) = 5 + x -2 x^2 -5 x^3$ uz šum  $\\sigma=200$:"
   ]
  },
  {
   "cell_type": "code",
   "execution_count": 7,
   "metadata": {},
   "outputs": [
    {
     "data": {
      "text/plain": [
       "array([ 645.36311635,  556.94033823,  763.91595107,  681.59297737,\n",
       "        353.42131898,  283.3322976 ,  437.10706292,  148.49157631,\n",
       "        267.72482676,  117.87781593,  264.62716752,  -75.35054047,\n",
       "        134.79167964,  -47.29624274,  -16.53959466,  -31.90624858,\n",
       "        -15.35956387,  -38.83581335,   64.10795717, -129.84162649,\n",
       "       -208.4190285 ,    6.70372383,  -26.89988364,  149.8108486 ,\n",
       "       -117.86868688,  183.36978378, -303.70042147, -138.38548439,\n",
       "       -129.54002404, -249.8868225 ,   35.25389552,  -50.29985363,\n",
       "       -211.35604438,  116.66748173,  -55.30607818, -368.86199965,\n",
       "         70.19849898, -274.61708481,   -7.89070603, -109.72961697,\n",
       "       -333.80049424, -205.57505954, -385.30742518, -258.78214723,\n",
       "       -539.21865604, -222.13842075, -734.56951103, -485.96230522,\n",
       "       -675.75866572, -815.35381879])"
      ]
     },
     "execution_count": 7,
     "metadata": {},
     "output_type": "execute_result"
    }
   ],
   "source": [
    "from numpy.random import normal\n",
    "\n",
    "def make_labels(X, f, noise=0) :\n",
    "    # Vaš kôd ovdje\n",
    "    y = []\n",
    "    for i in range(len(X)):\n",
    "        y.append(f(X[i]) + normal(scale=noise))\n",
    "        \n",
    "    return np.array(y)\n",
    "\n",
    "def f(x):\n",
    "    return 5 + x[0] - 2*x[0]**2 - 5*x[0]**3\n",
    "\n",
    "X = make_instances(-5, 5, 50)\n",
    "y = make_labels(X, f, noise=200)\n",
    "y"
   ]
  },
  {
   "cell_type": "code",
   "execution_count": 4,
   "metadata": {},
   "outputs": [],
   "source": [
    "def make_instances(x1, x2, N) :\n",
    "    return np.array([np.array([x]) for x in np.linspace(x1,x2,N)])"
   ]
  },
  {
   "cell_type": "markdown",
   "metadata": {},
   "source": [
    "Prikažite taj skup funkcijom [`scatter`](http://matplotlib.org/api/pyplot_api.html#matplotlib.pyplot.scatter)."
   ]
  },
  {
   "cell_type": "code",
   "execution_count": 20,
   "metadata": {},
   "outputs": [
    {
     "data": {
      "image/png": "[encoded data removed]",
      "text/plain": [
       "<Figure size 432x288 with 1 Axes>"
      ]
     },
     "metadata": {
      "needs_background": "light"
     },
     "output_type": "display_data"
    }
   ],
   "source": [
    "# Vaš kôd ovdje\n",
    "\n",
    "plt.scatter(X.reshape(1, len(X)), y)\n",
    "plt.show()"
   ]
  },
  {
   "cell_type": "markdown",
   "metadata": {},
   "source": [
    "### (b)"
   ]
  },
  {
   "cell_type": "markdown",
   "metadata": {},
   "source": [
    "Trenirajte model polinomijalne regresije stupnja $d=3$. Na istom grafikonu prikažite naučeni model $h(\\mathbf{x})=\\mathbf{w}^\\intercal\\tilde{\\mathbf{x}}$ i primjere za učenje. Izračunajte pogrešku učenja modela."
   ]
  },
  {
   "cell_type": "code",
   "execution_count": 12,
   "metadata": {},
   "outputs": [],
   "source": [
    "from sklearn.metrics import mean_squared_error"
   ]
  },
  {
   "cell_type": "code",
   "execution_count": 22,
   "metadata": {},
   "outputs": [
    {
     "name": "stdout",
     "output_type": "stream",
     "text": [
      "[ 0.          5.33021908  2.5799643  -6.05464165]\n",
      "-35.25153227425528\n"
     ]
    },
    {
     "data": {
      "text/plain": [
       "37346.559232805426"
      ]
     },
     "execution_count": 22,
     "metadata": {},
     "output_type": "execute_result"
    }
   ],
   "source": [
    "# Vaš kôd ovdje\n",
    "poly = PolynomialFeatures(degree=3)\n",
    "phi = poly.fit_transform(X)\n",
    "\n",
    "#print(X)\n",
    "#print(phi)\n",
    "\n",
    "reg = LinearRegression().fit(phi, y)\n",
    "print(reg.coef_)\n",
    "print(reg.intercept_)\n",
    "\n",
    "y_pred = reg.predict(phi)\n",
    "mean_squared_error(y, y_pred)"
   ]
  },
  {
   "cell_type": "code",
   "execution_count": 23,
   "metadata": {},
   "outputs": [
    {
     "data": {
      "image/png": "[encoded data removed]",
      "text/plain": [
       "<Figure size 432x288 with 1 Axes>"
      ]
     },
     "metadata": {
      "needs_background": "light"
     },
     "output_type": "display_data"
    }
   ],
   "source": [
    "plt.scatter(X.reshape(1, len(X)), y)\n",
    "plt.plot(X, y_pred)\n",
    "plt.show()"
   ]
  },
  {
   "cell_type": "markdown",
   "metadata": {},
   "source": [
    "### 3. Odabir modela"
   ]
  },
  {
   "cell_type": "markdown",
   "metadata": {},
   "source": [
    "### (a)\n",
    "\n",
    "Na skupu podataka iz zadatka 2 trenirajte pet modela linearne regresije $\\mathcal{H}_d$ različite složenosti, gdje je $d$ stupanj polinoma, $d\\in\\{1,3,5,10,20\\}$. Prikažite na istome grafikonu skup za učenje i funkcije $h_d(\\mathbf{x})$ za svih pet modela (preporučujemo koristiti `plot` unutar `for` petlje). Izračunajte pogrešku učenja svakog od modela.\n",
    "\n",
    "**Q:** Koji model ima najmanju pogrešku učenja i zašto?"
   ]
  },
  {
   "cell_type": "code",
   "execution_count": 24,
   "metadata": {},
   "outputs": [
    {
     "name": "stdout",
     "output_type": "stream",
     "text": [
      "Error for model with d = 1 is: 52443.611781183594\n",
      "Error for model with d = 3 is: 37346.559232805426\n",
      "Error for model with d = 5 is: 37070.99131782906\n",
      "Error for model with d = 10 is: 31816.507135587966\n",
      "Error for model with d = 20 is: 25493.40120713657\n"
     ]
    },
    {
     "data": {
      "image/png": "[encoded data removed]",
      "text/plain": [
       "<Figure size 432x288 with 1 Axes>"
      ]
     },
     "metadata": {
      "needs_background": "light"
     },
     "output_type": "display_data"
    }
   ],
   "source": [
    "# Vaš kôd ovdje\n",
    "\n",
    "plt.scatter(X.reshape(1, len(X)), y)\n",
    "\n",
    "ds = [1,3,5,10,20]\n",
    "\n",
    "for d in ds:\n",
    "    poly = PolynomialFeatures(degree=d)\n",
    "    phi = poly.fit_transform(X)\n",
    "    \n",
    "    reg = LinearRegression().fit(phi, y)\n",
    "    y_pred = reg.predict(phi)\n",
    "    \n",
    "    plt.plot(X, y_pred, label=\"d = \" + str(d))\n",
    "    print(\"Error for model with d = \" + str(d) + \" is: \" + str(mean_squared_error(y, y_pred)))\n",
    "    \n",
    "\n",
    "plt.legend()\n",
    "plt.show()\n",
    "    "
   ]
  },
  {
   "cell_type": "markdown",
   "metadata": {},
   "source": [
    "### (b)"
   ]
  },
  {
   "cell_type": "markdown",
   "metadata": {},
   "source": [
    "Razdvojite skup primjera iz zadatka 2 pomoću funkcije [`model_selection.train_test_split`](https://scikit-learn.org/stable/modules/generated/sklearn.model_selection.train_test_split.html) na skup za učenja i skup za ispitivanje u omjeru 1:1. Prikažite na jednom grafikonu pogrešku učenja i ispitnu pogrešku za modele polinomijalne regresije $\\mathcal{H}_d$, sa stupnjem polinoma $d$ u rasponu $d\\in [1,2,\\ldots,20]$. Budući da kvadratna pogreška brzo raste za veće stupnjeve polinoma, umjesto da iscrtate izravno iznose pogrešaka, iscrtajte njihove logaritme.\n",
    "\n",
    "**NB:** Podjela na skupa za učenje i skup za ispitivanje mora za svih pet modela biti identična.\n",
    "\n",
    "**Q:** Je li rezultat u skladu s očekivanjima? Koji biste model odabrali i zašto?\n",
    "\n",
    "**Q:** Pokrenite iscrtavanje više puta. U čemu je problem? Bi li problem bio jednako izražen kad bismo imali više primjera? Zašto?"
   ]
  },
  {
   "cell_type": "code",
   "execution_count": 11,
   "metadata": {},
   "outputs": [],
   "source": [
    "from sklearn.model_selection import train_test_split"
   ]
  },
  {
   "cell_type": "code",
   "execution_count": 32,
   "metadata": {},
   "outputs": [
    {
     "data": {
      "image/png": "[encoded data removed]",
      "text/plain": [
       "<Figure size 432x288 with 1 Axes>"
      ]
     },
     "metadata": {
      "needs_background": "light"
     },
     "output_type": "display_data"
    }
   ],
   "source": [
    "# Vaš kôd ovdje\n",
    "\n",
    "ds = []\n",
    "for i in range(20):\n",
    "    ds.append(i + 1)\n",
    "    \n",
    "X = make_instances(-5, 5, 50)\n",
    "y = make_labels(X, f, noise=200)\n",
    "X_train, X_test, y_train, y_test = train_test_split(X, y, train_size=0.5)\n",
    "\n",
    "train_errors = []\n",
    "test_errors = []\n",
    "for d in ds:\n",
    "    poly = PolynomialFeatures(degree=d)\n",
    "    phiTrain = poly.fit_transform(X_train)\n",
    "    phiTest = poly.fit_transform(X_test)\n",
    "    \n",
    "    reg = LinearRegression().fit(phiTrain, y_train)\n",
    "\n",
    "    y_pred_train = reg.predict(phiTrain)\n",
    "    y_pred_test = reg.predict(phiTest)\n",
    "    \n",
    "    train_errors.append(np.log(mean_squared_error(y_train, y_pred_train)))\n",
    "    test_errors.append(np.log(mean_squared_error(y_test, y_pred_test)))\n",
    "    \n",
    "plt.plot(ds, train_errors, label=\"train\")\n",
    "plt.plot(ds, test_errors, label=\"test\")\n",
    "plt.legend()\n",
    "plt.show()\n",
    "    "
   ]
  },
  {
   "cell_type": "markdown",
   "metadata": {},
   "source": [
    "### (c)"
   ]
  },
  {
   "cell_type": "markdown",
   "metadata": {},
   "source": [
    "Točnost modela ovisi o (1) njegovoj složenosti (stupanj $d$ polinoma), (2) broju primjera $N$, i (3) količini šuma. Kako biste to analizirali, nacrtajte grafikone pogrešaka kao u 3b, ali za različit $N\\in$ (trećina, dvije trećine, sve) i količine šuma $\\sigma\\in\\{100,200,500\\}$ (ukupno 9 grafikona). Upotrijebite funkciju [`subplots`](http://matplotlib.org/examples/pylab_examples/subplots_demo.html) kako biste pregledno posložili grafikone u tablicu $3\\times 3$. Podatci se generiraju na isti način kao u zadatku 2.\\n\n",
    "\n",
    "**NB:** Pobrinite se da svi grafikoni budu generirani nad usporedivim skupovima podataka, na sljedeći način. Generirajte najprije svih 1000 primjera, podijelite ih na skupove za učenje i skupove za ispitivanje (dva skupa od po 500 primjera). Zatim i od skupa za učenje i od skupa za ispitivanje načinite tri različite verzije, svaka s drugačijom količinom šuma (ukupno 2x3=6 verzija podataka). Kako bi simulirali veličinu skupa podataka, od tih dobivenih 6 skupova podataka uzorkujte trećinu, dvije trećine i sve podatke. Time ste dobili 18 skupova podataka -- skup za učenje i za testiranje za svaki od devet grafova."
   ]
  },
  {
   "cell_type": "code",
   "execution_count": 15,
   "metadata": {},
   "outputs": [
    {
     "name": "stdout",
     "output_type": "stream",
     "text": [
      "500\n",
      "500\n"
     ]
    },
    {
     "data": {
      "image/png": "[encoded data removed]",
      "text/plain": [
       "<Figure size 720x720 with 9 Axes>"
      ]
     },
     "metadata": {
      "needs_background": "light"
     },
     "output_type": "display_data"
    }
   ],
   "source": [
    "# Vaš kôd ovdje\n",
    "\n",
    "X = make_instances(-5, 5, 1000)\n",
    "np.random.shuffle(X)\n",
    "\n",
    "X_train = X[0:500]\n",
    "X_test = X[500:1000]\n",
    "std_deviations = [100, 200, 500]\n",
    "Ns = [1.0 / 3.0, 2.0 / 3.0, 1.0]\n",
    "\n",
    "train_Xs = []\n",
    "test_Xs = []\n",
    "train_ys = []\n",
    "test_ys = []\n",
    "\n",
    "for std_dev in std_deviations:\n",
    "    y_train = make_labels(X_train, f, noise=std_dev)\n",
    "    y_test = make_labels(X_test, f, noise=std_dev)\n",
    "\n",
    "    for ratio in Ns:\n",
    "        N = int(1000 * ratio)\n",
    "        train_indices = np.random.choice(500, int(N / 2))\n",
    "        train_Xs.append(np.array([np.array(X_train[i]) for i in train_indices]))\n",
    "        train_ys.append(np.array([y_train[i] for i in train_indices]))\n",
    "\n",
    "        test_indices = np.random.choice(500, int(N / 2))\n",
    "        test_Xs.append(np.array([np.array(X_test[i]) for i in test_indices]))\n",
    "        test_ys.append(np.array([y_test[i] for i in train_indices]))\n",
    "\n",
    "print(len(train_Xs[2]))\n",
    "print(len(test_Xs[2]))\n",
    "\n",
    "fig, axes = plt.subplots(3,3)\n",
    "fig.set_figheight(10)\n",
    "fig.set_figwidth(10)\n",
    "fig.tight_layout()\n",
    "\n",
    "ds = []\n",
    "for i in range(20):\n",
    "    ds.append(i + 1)\n",
    "\n",
    "for i in range(len(std_deviations)):\n",
    "    for j in range(len(Ns)):\n",
    "        index = i * len(std_deviations) + j\n",
    "    \n",
    "        train_errors = []\n",
    "        test_errors = []\n",
    "        for d in ds:\n",
    "            poly = PolynomialFeatures(degree=d)\n",
    "            phiTrain = poly.fit_transform(train_Xs[index])\n",
    "            phiTest = poly.fit_transform(test_Xs[index])\n",
    "\n",
    "            reg = LinearRegression().fit(phiTrain, train_ys[index])\n",
    "\n",
    "            y_pred_train = reg.predict(phiTrain)\n",
    "            y_pred_test = reg.predict(phiTest)\n",
    "\n",
    "            train_errors.append(np.log(mean_squared_error(train_ys[index], y_pred_train)))\n",
    "            test_errors.append(np.log(mean_squared_error(test_ys[index], y_pred_test)))\n",
    "\n",
    "        axes[i][j].plot(ds, train_errors, label=\"train\")\n",
    "        axes[i][j].plot(ds, test_errors, label=\"test\")\n",
    "        axes[i][j].set_title(\"sd=\" + str(std_deviations[i]) + \" \" + \"N=\" + str(int(Ns[j] * 1000)))\n",
    "\n"
   ]
  },
  {
   "cell_type": "markdown",
   "metadata": {},
   "source": [
    "***Q:*** Jesu li rezultati očekivani? Obrazložite."
   ]
  },
  {
   "cell_type": "markdown",
   "metadata": {},
   "source": [
    "### 4. Regularizirana regresija"
   ]
  },
  {
   "cell_type": "markdown",
   "metadata": {},
   "source": [
    "### (a)\n",
    "\n",
    "U gornjim eksperimentima nismo koristili **regularizaciju**. Vratimo se najprije na primjer iz zadatka 1. Na primjerima iz tog zadatka izračunajte težine $\\mathbf{w}$ za polinomijalni regresijski model stupnja $d=3$ uz L2-regularizaciju (tzv. *ridge regression*), prema izrazu $\\mathbf{w}=(\\mathbf{\\Phi}^\\intercal\\mathbf{\\Phi}+\\lambda\\mathbf{I})^{-1}\\mathbf{\\Phi}^\\intercal\\mathbf{y}$. Napravite izračun težina za regularizacijske faktore $\\lambda=0$, $\\lambda=1$ i $\\lambda=10$ te usporedite dobivene težine.\n",
    "\n",
    "**Q:** Kojih je dimenzija matrica koju treba invertirati?\n",
    "\n",
    "**Q:** Po čemu se razlikuju dobivene težine i je li ta razlika očekivana? Obrazložite."
   ]
  },
  {
   "cell_type": "code",
   "execution_count": 38,
   "metadata": {},
   "outputs": [
    {
     "name": "stdout",
     "output_type": "stream",
     "text": [
      "[ 4.         -5.91666667  3.375      -0.45833333]\n",
      "[ 3.05696145 -0.69079365 -0.2831746   0.1445805 ]\n",
      "[ 2.49444184 -0.15897295 -0.13423067  0.0815601 ]\n"
     ]
    }
   ],
   "source": [
    "# Vaš kôd ovdje\n",
    "\n",
    "poly = PolynomialFeatures(degree=3)\n",
    "phi = poly.fit_transform(X)\n",
    "\n",
    "lambdas = [0, 1, 10]\n",
    "\n",
    "for l in lambdas:\n",
    "    lI = l * np.identity(len(phi[0]))\n",
    "    lI[0][0] = 0.0\n",
    "    \n",
    "    ps_inv = matmul(inv(matmul(phi.transpose(), phi) + lI), phi.transpose())\n",
    "    w = matmul(ps_inv, y)\n",
    "    \n",
    "    print(w)"
   ]
  },
  {
   "cell_type": "markdown",
   "metadata": {},
   "source": [
    "### (b)"
   ]
  },
  {
   "cell_type": "markdown",
   "metadata": {},
   "source": [
    "Proučite klasu [`Ridge`](http://scikit-learn.org/stable/modules/generated/sklearn.linear_model.Ridge.html#sklearn.linear_model.Ridge) iz modula [`sklearn.linear_model`](http://scikit-learn.org/stable/modules/classes.html#module-sklearn.linear_model), koja implementira L2-regularizirani regresijski model. Parametar $\\alpha$ odgovara parametru $\\lambda$. Primijenite model na istim primjerima kao u prethodnom zadatku i ispišite težine $\\mathbf{w}$ (atributi `coef_` i `intercept_`).\n",
    "\n",
    "**Q:** Jesu li težine identične onima iz zadatka 4a? Ako nisu, objasnite zašto je to tako i kako biste to popravili."
   ]
  },
  {
   "cell_type": "code",
   "execution_count": 40,
   "metadata": {},
   "outputs": [],
   "source": [
    "from sklearn.linear_model import Ridge"
   ]
  },
  {
   "cell_type": "code",
   "execution_count": 41,
   "metadata": {},
   "outputs": [
    {
     "name": "stdout",
     "output_type": "stream",
     "text": [
      "[ 0.         -5.91666667  3.375      -0.45833333]\n",
      "4.000000000000028\n",
      "[ 0.         -0.69079365 -0.2831746   0.1445805 ]\n",
      "3.0569614512471652\n",
      "[ 0.         -0.15897295 -0.13423067  0.0815601 ]\n",
      "2.4944418431229725\n"
     ]
    }
   ],
   "source": [
    "# Vaš kôd ovdje\n",
    "poly = PolynomialFeatures(degree=3)\n",
    "phi = poly.fit_transform(X)\n",
    "\n",
    "for l in lambdas:\n",
    "    reg = Ridge(alpha=l)\n",
    "    reg.fit(phi, y)\n",
    "    print(reg.coef_)\n",
    "    print(reg.intercept_)"
   ]
  },
  {
   "cell_type": "markdown",
   "metadata": {},
   "source": [
    "### 5. Regularizirana polinomijalna regresija"
   ]
  },
  {
   "cell_type": "markdown",
   "metadata": {},
   "source": [
    "### (a)\n",
    "\n",
    "Vratimo se na slučaj $N=50$ slučajno generiranih primjera iz zadatka 2. Trenirajte modele polinomijalne regresije $\\mathcal{H}_{\\lambda,d}$ za $\\lambda\\in\\{0,100\\}$ i $d\\in\\{2,10\\}$ (ukupno četiri modela). Skicirajte pripadne funkcije $h(\\mathbf{x})$ i primjere (na jednom grafikonu; preporučujemo koristiti `plot` unutar `for` petlje).\n",
    "\n",
    "**Q:** Jesu li rezultati očekivani? Obrazložite."
   ]
  },
  {
   "cell_type": "code",
   "execution_count": 42,
   "metadata": {},
   "outputs": [],
   "source": [
    "from sklearn.linear_model import Ridge"
   ]
  },
  {
   "cell_type": "code",
   "execution_count": 43,
   "metadata": {},
   "outputs": [
    {
     "data": {
      "text/plain": [
       "<matplotlib.legend.Legend at 0x12a591a90>"
      ]
     },
     "execution_count": 43,
     "metadata": {},
     "output_type": "execute_result"
    },
    {
     "data": {
      "image/png": "[encoded data removed]",
      "text/plain": [
       "<Figure size 432x288 with 1 Axes>"
      ]
     },
     "metadata": {
      "needs_background": "light"
     },
     "output_type": "display_data"
    }
   ],
   "source": [
    "# Vaš kôd ovdje\n",
    "\n",
    "X = make_instances(-5, 5, 50)\n",
    "y = make_labels(X, f, noise=200)\n",
    "plt.scatter(X.reshape(1, len(X)), y)\n",
    "\n",
    "lambdas = [0, 100]\n",
    "ds = [2, 10]\n",
    "\n",
    "for d in ds:\n",
    "    poly = PolynomialFeatures(degree=d)\n",
    "    phi = poly.fit_transform(X)\n",
    "    \n",
    "    for l in lambdas:\n",
    "        reg = Ridge(alpha=l)\n",
    "        reg.fit(phi, y)\n",
    "        y_pred = reg.predict(phi)\n",
    "        label = \"d=\" + str(d) + \", l=\" + str(l)\n",
    "        plt.plot(X, y_pred, label=label)\n",
    "\n",
    "plt.legend()\n"
   ]
  },
  {
   "cell_type": "markdown",
   "metadata": {},
   "source": [
    "### (b)\n",
    "\n",
    "Kao u zadataku 3b, razdvojite primjere na skup za učenje i skup za ispitivanje u omjeru 1:1. Prikažite krivulje logaritama pogreške učenja i ispitne pogreške u ovisnosti za model $\\mathcal{H}_{d=10,\\lambda}$, podešavajući faktor regularizacije $\\lambda$ u rasponu $\\lambda\\in\\{0,1,\\dots,50\\}$.\n",
    "\n",
    "**Q:** Kojoj strani na grafikonu odgovara područje prenaučenosti, a kojoj podnaučenosti? Zašto?\n",
    "\n",
    "**Q:** Koju biste vrijednosti za $\\lambda$ izabrali na temelju ovih grafikona i zašto?\n"
   ]
  },
  {
   "cell_type": "code",
   "execution_count": 2,
   "metadata": {},
   "outputs": [
    {
     "ename": "NameError",
     "evalue": "name 'make_instances' is not defined",
     "output_type": "error",
     "traceback": [
      "\u001b[0;31m---------------------------------------------------------------------------\u001b[0m",
      "\u001b[0;31mNameError\u001b[0m                                 Traceback (most recent call last)",
      "\u001b[0;32m<ipython-input-2-0c3301804a4d>\u001b[0m in \u001b[0;36m<module>\u001b[0;34m\u001b[0m\n\u001b[1;32m      4\u001b[0m \u001b[0mlambdas\u001b[0m \u001b[0;34m=\u001b[0m \u001b[0;34m[\u001b[0m\u001b[0mi\u001b[0m \u001b[0;32mfor\u001b[0m \u001b[0mi\u001b[0m \u001b[0;32min\u001b[0m \u001b[0mrange\u001b[0m\u001b[0;34m(\u001b[0m\u001b[0;36m51\u001b[0m\u001b[0;34m)\u001b[0m\u001b[0;34m]\u001b[0m\u001b[0;34m\u001b[0m\u001b[0;34m\u001b[0m\u001b[0m\n\u001b[1;32m      5\u001b[0m \u001b[0;34m\u001b[0m\u001b[0m\n\u001b[0;32m----> 6\u001b[0;31m \u001b[0mX\u001b[0m \u001b[0;34m=\u001b[0m \u001b[0mmake_instances\u001b[0m\u001b[0;34m(\u001b[0m\u001b[0;34m-\u001b[0m\u001b[0;36m5\u001b[0m\u001b[0;34m,\u001b[0m \u001b[0;36m5\u001b[0m\u001b[0;34m,\u001b[0m \u001b[0;36m50\u001b[0m\u001b[0;34m)\u001b[0m\u001b[0;34m\u001b[0m\u001b[0;34m\u001b[0m\u001b[0m\n\u001b[0m\u001b[1;32m      7\u001b[0m \u001b[0my\u001b[0m \u001b[0;34m=\u001b[0m \u001b[0mmake_labels\u001b[0m\u001b[0;34m(\u001b[0m\u001b[0mX\u001b[0m\u001b[0;34m,\u001b[0m \u001b[0mf\u001b[0m\u001b[0;34m,\u001b[0m \u001b[0mnoise\u001b[0m\u001b[0;34m=\u001b[0m\u001b[0;36m200\u001b[0m\u001b[0;34m)\u001b[0m\u001b[0;34m\u001b[0m\u001b[0;34m\u001b[0m\u001b[0m\n\u001b[1;32m      8\u001b[0m \u001b[0;34m\u001b[0m\u001b[0m\n",
      "\u001b[0;31mNameError\u001b[0m: name 'make_instances' is not defined"
     ]
    }
   ],
   "source": [
    "# Vaš kôd ovdje\n",
    "\n",
    "d = 10\n",
    "lambdas = [i for i in range(51)]\n",
    "\n",
    "X = make_instances(-5, 5, 50)\n",
    "y = make_labels(X, f, noise=200)\n",
    "\n",
    "X_train, X_test, y_train, y_test = train_test_split(X, y, train_size=0.5)\n",
    "poly = PolynomialFeatures(degree=d)\n",
    "\n",
    "phi_train = poly.fit_transform(X_train)\n",
    "phi_test = poly.fit_transform(X_test)\n",
    "\n",
    "train_errors = []\n",
    "test_errors = []\n",
    "\n",
    "for l in lambdas:\n",
    "#    mean_squared_error\n",
    "    reg = Ridge(alpha=l)\n",
    "    reg.fit(phi_train, y_train)\n",
    "    y_pred_train = reg.predict(phi_train)\n",
    "    y_pred_test = reg.predict(phi_test)\n",
    "    \n",
    "    train_errors.append(np.log(mean_squared_error(y_pred_train, y_train)))\n",
    "    test_errors.append(np.log(mean_squared_error(y_pred_test, y_test)))\n",
    "    \n",
    "plt.plot(lambdas, train_errors, label=\"train\")\n",
    "plt.plot(lambdas, test_errors, label=\"test\")\n",
    "plt.legend()\n",
    "\n",
    "    "
   ]
  },
  {
   "cell_type": "markdown",
   "metadata": {},
   "source": [
    "### 6. L1-regularizacija i L2-regularizacija"
   ]
  },
  {
   "cell_type": "markdown",
   "metadata": {},
   "source": [
    "Svrha regularizacije jest potiskivanje težina modela $\\mathbf{w}$ prema nuli, kako bi model bio što jednostavniji. Složenost modela može se okarakterizirati normom pripadnog vektora težina $\\mathbf{w}$, i to tipično L2-normom ili L1-normom. Za jednom trenirani model možemo izračunati i broj ne-nul značajki, ili L0-normu, pomoću sljedeće funkcije koja prima vektor težina $\\mathbf{w}$:"
   ]
  },
  {
   "cell_type": "code",
   "execution_count": 3,
   "metadata": {},
   "outputs": [],
   "source": [
    "def nonzeroes(coef, tol=1e-6): \n",
    "    return len(coef) - len(coef[np.isclose(0, coef, atol=tol)])"
   ]
  },
  {
   "cell_type": "markdown",
   "metadata": {},
   "source": [
    "### (a)\n",
    "\n",
    "Za ovaj zadatak upotrijebite skup za učenje i skup za testiranje iz zadatka 3b. Trenirajte modele **L2-regularizirane** polinomijalne regresije stupnja $d=10$, mijenjajući hiperparametar $\\lambda$ u rasponu $\\{1,2,\\dots,100\\}$. Za svaki od treniranih modela izračunajte L{0,1,2}-norme vektora težina $\\mathbf{w}$ te ih prikažite kao funkciju od $\\lambda$. Pripazite što točno šaljete u funkciju za izračun normi.\n",
    "\n",
    "**Q:** Objasnite oblik obiju krivulja. Hoće li krivulja za $\\|\\mathbf{w}\\|_2$ doseći nulu? Zašto? Je li to problem? Zašto?\n",
    "\n",
    "**Q:** Za $\\lambda=100$, koliki je postotak težina modela jednak nuli, odnosno koliko je model rijedak?"
   ]
  },
  {
   "cell_type": "code",
   "execution_count": 71,
   "metadata": {},
   "outputs": [
    {
     "name": "stdout",
     "output_type": "stream",
     "text": [
      "0.0\n",
      "0.0% of the weights are equal to zero\n"
     ]
    },
    {
     "data": {
      "text/plain": [
       "<matplotlib.legend.Legend at 0x12c1d3da0>"
      ]
     },
     "execution_count": 71,
     "metadata": {},
     "output_type": "execute_result"
    },
    {
     "data": {
      "image/png": "[encoded data removed]",
      "text/plain": [
       "<Figure size 432x288 with 1 Axes>"
      ]
     },
     "metadata": {
      "needs_background": "light"
     },
     "output_type": "display_data"
    }
   ],
   "source": [
    "# Vaš kôd ovdje\n",
    "X = make_instances(-5, 5, 50)\n",
    "y = make_labels(X, f, noise=200)\n",
    "X_train, X_test, y_train, y_test = train_test_split(X, y, train_size=0.5)\n",
    "\n",
    "d = 10\n",
    "lambdas = [i for i in range(1, 101)]\n",
    "\n",
    "poly = PolynomialFeatures(degree=d)\n",
    "phi_train = poly.fit_transform(X_train)\n",
    "phi_test = poly.fit_transform(X_test)\n",
    "\n",
    "def L1(w):\n",
    "    suma = 0\n",
    "    for i in w:\n",
    "        suma += abs(i)\n",
    "    return suma\n",
    "\n",
    "def L2(w):\n",
    "    return np.sqrt(np.dot(w,w))\n",
    "\n",
    "l0_values = []\n",
    "l1_values = []\n",
    "l2_values = []\n",
    "\n",
    "for l in lambdas:\n",
    "    reg = Ridge(alpha=l)\n",
    "    reg.fit(phi_train, y_train)\n",
    "    \n",
    "    l0_values.append(nonzeroes(reg.coef_[1:]))\n",
    "    l1_values.append(L1(reg.coef_))\n",
    "    l2_values.append(L2(reg.coef_))\n",
    "    \n",
    "    if l==100:\n",
    "        zero = (len(reg.coef_) - 1) - float(l0_values[-1])\n",
    "        print(zero)\n",
    "        percentage = 1 - (float(nonzero) / float(len(reg.coef_) - 1))\n",
    "        print(str(percentage*100) + \"% of the weights are equal to zero\")\n",
    "        \n",
    "\n",
    "plt.plot(lambdas, l0_values, label=\"L0\")\n",
    "plt.plot(lambdas, l1_values, label=\"L1\")\n",
    "plt.plot(lambdas, l2_values, label=\"L2\")\n",
    "plt.legend()\n"
   ]
  },
  {
   "cell_type": "markdown",
   "metadata": {},
   "source": [
    "### (b)"
   ]
  },
  {
   "cell_type": "markdown",
   "metadata": {},
   "source": [
    "Glavna prednost L1-regularizirane regresije (ili *LASSO regression*) nad L2-regulariziranom regresijom jest u tome što L1-regularizirana regresija rezultira **rijetkim modelima** (engl. *sparse models*), odnosno modelima kod kojih su mnoge težine pritegnute na nulu. Pokažite da je to doista tako, ponovivši gornji eksperiment s **L1-regulariziranom** regresijom, implementiranom u klasi  [`Lasso`](http://scikit-learn.org/stable/modules/generated/sklearn.linear_model.Lasso.html) u modulu [`sklearn.linear_model`](http://scikit-learn.org/stable/modules/classes.html#module-sklearn.linear_model). Zanemarite upozorenja."
   ]
  },
  {
   "cell_type": "code",
   "execution_count": 72,
   "metadata": {},
   "outputs": [],
   "source": [
    "from sklearn.linear_model import Lasso"
   ]
  },
  {
   "cell_type": "code",
   "execution_count": 77,
   "metadata": {},
   "outputs": [
    {
     "name": "stdout",
     "output_type": "stream",
     "text": [
      "40.0% of the weights are equal to zero\n"
     ]
    },
    {
     "name": "stderr",
     "output_type": "stream",
     "text": [
      "/usr/local/lib/python3.7/site-packages/sklearn/linear_model/coordinate_descent.py:475: ConvergenceWarning: Objective did not converge. You might want to increase the number of iterations. Duality gap: 207758.71276053073, tolerance: 198.1439762028297\n",
      "  positive)\n",
      "/usr/local/lib/python3.7/site-packages/sklearn/linear_model/coordinate_descent.py:475: ConvergenceWarning: Objective did not converge. You might want to increase the number of iterations. Duality gap: 209898.05346698168, tolerance: 198.1439762028297\n",
      "  positive)\n",
      "/usr/local/lib/python3.7/site-packages/sklearn/linear_model/coordinate_descent.py:475: ConvergenceWarning: Objective did not converge. You might want to increase the number of iterations. Duality gap: 211853.2282228278, tolerance: 198.1439762028297\n",
      "  positive)\n",
      "/usr/local/lib/python3.7/site-packages/sklearn/linear_model/coordinate_descent.py:475: ConvergenceWarning: Objective did not converge. You might want to increase the number of iterations. Duality gap: 213624.77750259842, tolerance: 198.1439762028297\n",
      "  positive)\n",
      "/usr/local/lib/python3.7/site-packages/sklearn/linear_model/coordinate_descent.py:475: ConvergenceWarning: Objective did not converge. You might want to increase the number of iterations. Duality gap: 215212.31454205432, tolerance: 198.1439762028297\n",
      "  positive)\n",
      "/usr/local/lib/python3.7/site-packages/sklearn/linear_model/coordinate_descent.py:475: ConvergenceWarning: Objective did not converge. You might want to increase the number of iterations. Duality gap: 216617.02430996057, tolerance: 198.1439762028297\n",
      "  positive)\n",
      "/usr/local/lib/python3.7/site-packages/sklearn/linear_model/coordinate_descent.py:475: ConvergenceWarning: Objective did not converge. You might want to increase the number of iterations. Duality gap: 217893.4797682987, tolerance: 198.1439762028297\n",
      "  positive)\n",
      "/usr/local/lib/python3.7/site-packages/sklearn/linear_model/coordinate_descent.py:475: ConvergenceWarning: Objective did not converge. You might want to increase the number of iterations. Duality gap: 219023.35659026555, tolerance: 198.1439762028297\n",
      "  positive)\n",
      "/usr/local/lib/python3.7/site-packages/sklearn/linear_model/coordinate_descent.py:475: ConvergenceWarning: Objective did not converge. You might want to increase the number of iterations. Duality gap: 220020.38999418422, tolerance: 198.1439762028297\n",
      "  positive)\n",
      "/usr/local/lib/python3.7/site-packages/sklearn/linear_model/coordinate_descent.py:475: ConvergenceWarning: Objective did not converge. You might want to increase the number of iterations. Duality gap: 220878.35311496607, tolerance: 198.1439762028297\n",
      "  positive)\n",
      "/usr/local/lib/python3.7/site-packages/sklearn/linear_model/coordinate_descent.py:475: ConvergenceWarning: Objective did not converge. You might want to increase the number of iterations. Duality gap: 221592.7055816909, tolerance: 198.1439762028297\n",
      "  positive)\n",
      "/usr/local/lib/python3.7/site-packages/sklearn/linear_model/coordinate_descent.py:475: ConvergenceWarning: Objective did not converge. You might want to increase the number of iterations. Duality gap: 222164.17234336937, tolerance: 198.1439762028297\n",
      "  positive)\n",
      "/usr/local/lib/python3.7/site-packages/sklearn/linear_model/coordinate_descent.py:475: ConvergenceWarning: Objective did not converge. You might want to increase the number of iterations. Duality gap: 222648.27366195753, tolerance: 198.1439762028297\n",
      "  positive)\n",
      "/usr/local/lib/python3.7/site-packages/sklearn/linear_model/coordinate_descent.py:475: ConvergenceWarning: Objective did not converge. You might want to increase the number of iterations. Duality gap: 223050.79429936377, tolerance: 198.1439762028297\n",
      "  positive)\n",
      "/usr/local/lib/python3.7/site-packages/sklearn/linear_model/coordinate_descent.py:475: ConvergenceWarning: Objective did not converge. You might want to increase the number of iterations. Duality gap: 223390.97624999087, tolerance: 198.1439762028297\n",
      "  positive)\n",
      "/usr/local/lib/python3.7/site-packages/sklearn/linear_model/coordinate_descent.py:475: ConvergenceWarning: Objective did not converge. You might want to increase the number of iterations. Duality gap: 223719.62229429875, tolerance: 198.1439762028297\n",
      "  positive)\n",
      "/usr/local/lib/python3.7/site-packages/sklearn/linear_model/coordinate_descent.py:475: ConvergenceWarning: Objective did not converge. You might want to increase the number of iterations. Duality gap: 224024.61727524424, tolerance: 198.1439762028297\n",
      "  positive)\n",
      "/usr/local/lib/python3.7/site-packages/sklearn/linear_model/coordinate_descent.py:475: ConvergenceWarning: Objective did not converge. You might want to increase the number of iterations. Duality gap: 224402.0422526315, tolerance: 198.1439762028297\n",
      "  positive)\n",
      "/usr/local/lib/python3.7/site-packages/sklearn/linear_model/coordinate_descent.py:475: ConvergenceWarning: Objective did not converge. You might want to increase the number of iterations. Duality gap: 224713.182930196, tolerance: 198.1439762028297\n",
      "  positive)\n",
      "/usr/local/lib/python3.7/site-packages/sklearn/linear_model/coordinate_descent.py:475: ConvergenceWarning: Objective did not converge. You might want to increase the number of iterations. Duality gap: 224934.512911345, tolerance: 198.1439762028297\n",
      "  positive)\n",
      "/usr/local/lib/python3.7/site-packages/sklearn/linear_model/coordinate_descent.py:475: ConvergenceWarning: Objective did not converge. You might want to increase the number of iterations. Duality gap: 225060.92435098806, tolerance: 198.1439762028297\n",
      "  positive)\n",
      "/usr/local/lib/python3.7/site-packages/sklearn/linear_model/coordinate_descent.py:475: ConvergenceWarning: Objective did not converge. You might want to increase the number of iterations. Duality gap: 225209.01501682246, tolerance: 198.1439762028297\n",
      "  positive)\n",
      "/usr/local/lib/python3.7/site-packages/sklearn/linear_model/coordinate_descent.py:475: ConvergenceWarning: Objective did not converge. You might want to increase the number of iterations. Duality gap: 225335.4778876649, tolerance: 198.1439762028297\n",
      "  positive)\n",
      "/usr/local/lib/python3.7/site-packages/sklearn/linear_model/coordinate_descent.py:475: ConvergenceWarning: Objective did not converge. You might want to increase the number of iterations. Duality gap: 225432.26443283344, tolerance: 198.1439762028297\n",
      "  positive)\n",
      "/usr/local/lib/python3.7/site-packages/sklearn/linear_model/coordinate_descent.py:475: ConvergenceWarning: Objective did not converge. You might want to increase the number of iterations. Duality gap: 225514.2209868707, tolerance: 198.1439762028297\n",
      "  positive)\n",
      "/usr/local/lib/python3.7/site-packages/sklearn/linear_model/coordinate_descent.py:475: ConvergenceWarning: Objective did not converge. You might want to increase the number of iterations. Duality gap: 225501.1878138256, tolerance: 198.1439762028297\n",
      "  positive)\n",
      "/usr/local/lib/python3.7/site-packages/sklearn/linear_model/coordinate_descent.py:475: ConvergenceWarning: Objective did not converge. You might want to increase the number of iterations. Duality gap: 225448.48802785669, tolerance: 198.1439762028297\n",
      "  positive)\n",
      "/usr/local/lib/python3.7/site-packages/sklearn/linear_model/coordinate_descent.py:475: ConvergenceWarning: Objective did not converge. You might want to increase the number of iterations. Duality gap: 225395.17873838966, tolerance: 198.1439762028297\n",
      "  positive)\n",
      "/usr/local/lib/python3.7/site-packages/sklearn/linear_model/coordinate_descent.py:475: ConvergenceWarning: Objective did not converge. You might want to increase the number of iterations. Duality gap: 225341.24725314684, tolerance: 198.1439762028297\n",
      "  positive)\n",
      "/usr/local/lib/python3.7/site-packages/sklearn/linear_model/coordinate_descent.py:475: ConvergenceWarning: Objective did not converge. You might want to increase the number of iterations. Duality gap: 225287.43711148767, tolerance: 198.1439762028297\n",
      "  positive)\n",
      "/usr/local/lib/python3.7/site-packages/sklearn/linear_model/coordinate_descent.py:475: ConvergenceWarning: Objective did not converge. You might want to increase the number of iterations. Duality gap: 225236.58541468316, tolerance: 198.1439762028297\n",
      "  positive)\n",
      "/usr/local/lib/python3.7/site-packages/sklearn/linear_model/coordinate_descent.py:475: ConvergenceWarning: Objective did not converge. You might want to increase the number of iterations. Duality gap: 225181.1646661991, tolerance: 198.1439762028297\n",
      "  positive)\n",
      "/usr/local/lib/python3.7/site-packages/sklearn/linear_model/coordinate_descent.py:475: ConvergenceWarning: Objective did not converge. You might want to increase the number of iterations. Duality gap: 225125.2857499744, tolerance: 198.1439762028297\n",
      "  positive)\n",
      "/usr/local/lib/python3.7/site-packages/sklearn/linear_model/coordinate_descent.py:475: ConvergenceWarning: Objective did not converge. You might want to increase the number of iterations. Duality gap: 225068.93376528277, tolerance: 198.1439762028297\n",
      "  positive)\n",
      "/usr/local/lib/python3.7/site-packages/sklearn/linear_model/coordinate_descent.py:475: ConvergenceWarning: Objective did not converge. You might want to increase the number of iterations. Duality gap: 225012.13021844844, tolerance: 198.1439762028297\n",
      "  positive)\n",
      "/usr/local/lib/python3.7/site-packages/sklearn/linear_model/coordinate_descent.py:475: ConvergenceWarning: Objective did not converge. You might want to increase the number of iterations. Duality gap: 224954.90217998635, tolerance: 198.1439762028297\n",
      "  positive)\n",
      "/usr/local/lib/python3.7/site-packages/sklearn/linear_model/coordinate_descent.py:475: ConvergenceWarning: Objective did not converge. You might want to increase the number of iterations. Duality gap: 224897.2512782726, tolerance: 198.1439762028297\n",
      "  positive)\n",
      "/usr/local/lib/python3.7/site-packages/sklearn/linear_model/coordinate_descent.py:475: ConvergenceWarning: Objective did not converge. You might want to increase the number of iterations. Duality gap: 224839.1801593048, tolerance: 198.1439762028297\n",
      "  positive)\n",
      "/usr/local/lib/python3.7/site-packages/sklearn/linear_model/coordinate_descent.py:475: ConvergenceWarning: Objective did not converge. You might want to increase the number of iterations. Duality gap: 224780.68325595654, tolerance: 198.1439762028297\n",
      "  positive)\n",
      "/usr/local/lib/python3.7/site-packages/sklearn/linear_model/coordinate_descent.py:475: ConvergenceWarning: Objective did not converge. You might want to increase the number of iterations. Duality gap: 224721.74862208124, tolerance: 198.1439762028297\n",
      "  positive)\n",
      "/usr/local/lib/python3.7/site-packages/sklearn/linear_model/coordinate_descent.py:475: ConvergenceWarning: Objective did not converge. You might want to increase the number of iterations. Duality gap: 224662.37137890974, tolerance: 198.1439762028297\n",
      "  positive)\n",
      "/usr/local/lib/python3.7/site-packages/sklearn/linear_model/coordinate_descent.py:475: ConvergenceWarning: Objective did not converge. You might want to increase the number of iterations. Duality gap: 224602.53017211411, tolerance: 198.1439762028297\n",
      "  positive)\n",
      "/usr/local/lib/python3.7/site-packages/sklearn/linear_model/coordinate_descent.py:475: ConvergenceWarning: Objective did not converge. You might want to increase the number of iterations. Duality gap: 224542.20834263705, tolerance: 198.1439762028297\n",
      "  positive)\n",
      "/usr/local/lib/python3.7/site-packages/sklearn/linear_model/coordinate_descent.py:475: ConvergenceWarning: Objective did not converge. You might want to increase the number of iterations. Duality gap: 224481.36921129937, tolerance: 198.1439762028297\n",
      "  positive)\n",
      "/usr/local/lib/python3.7/site-packages/sklearn/linear_model/coordinate_descent.py:475: ConvergenceWarning: Objective did not converge. You might want to increase the number of iterations. Duality gap: 224419.97891900994, tolerance: 198.1439762028297\n",
      "  positive)\n",
      "/usr/local/lib/python3.7/site-packages/sklearn/linear_model/coordinate_descent.py:475: ConvergenceWarning: Objective did not converge. You might want to increase the number of iterations. Duality gap: 224358.13927270117, tolerance: 198.1439762028297\n",
      "  positive)\n",
      "/usr/local/lib/python3.7/site-packages/sklearn/linear_model/coordinate_descent.py:475: ConvergenceWarning: Objective did not converge. You might want to increase the number of iterations. Duality gap: 224295.50987811873, tolerance: 198.1439762028297\n",
      "  positive)\n",
      "/usr/local/lib/python3.7/site-packages/sklearn/linear_model/coordinate_descent.py:475: ConvergenceWarning: Objective did not converge. You might want to increase the number of iterations. Duality gap: 224232.16427234624, tolerance: 198.1439762028297\n",
      "  positive)\n",
      "/usr/local/lib/python3.7/site-packages/sklearn/linear_model/coordinate_descent.py:475: ConvergenceWarning: Objective did not converge. You might want to increase the number of iterations. Duality gap: 224168.02795672507, tolerance: 198.1439762028297\n",
      "  positive)\n",
      "/usr/local/lib/python3.7/site-packages/sklearn/linear_model/coordinate_descent.py:475: ConvergenceWarning: Objective did not converge. You might want to increase the number of iterations. Duality gap: 224102.9955709882, tolerance: 198.1439762028297\n",
      "  positive)\n",
      "/usr/local/lib/python3.7/site-packages/sklearn/linear_model/coordinate_descent.py:475: ConvergenceWarning: Objective did not converge. You might want to increase the number of iterations. Duality gap: 224036.96240703127, tolerance: 198.1439762028297\n",
      "  positive)\n",
      "/usr/local/lib/python3.7/site-packages/sklearn/linear_model/coordinate_descent.py:475: ConvergenceWarning: Objective did not converge. You might want to increase the number of iterations. Duality gap: 223969.8431857225, tolerance: 198.1439762028297\n",
      "  positive)\n",
      "/usr/local/lib/python3.7/site-packages/sklearn/linear_model/coordinate_descent.py:475: ConvergenceWarning: Objective did not converge. You might want to increase the number of iterations. Duality gap: 223901.5923044943, tolerance: 198.1439762028297\n",
      "  positive)\n",
      "/usr/local/lib/python3.7/site-packages/sklearn/linear_model/coordinate_descent.py:475: ConvergenceWarning: Objective did not converge. You might want to increase the number of iterations. Duality gap: 223831.68191179854, tolerance: 198.1439762028297\n",
      "  positive)\n",
      "/usr/local/lib/python3.7/site-packages/sklearn/linear_model/coordinate_descent.py:475: ConvergenceWarning: Objective did not converge. You might want to increase the number of iterations. Duality gap: 223760.05375293564, tolerance: 198.1439762028297\n",
      "  positive)\n",
      "/usr/local/lib/python3.7/site-packages/sklearn/linear_model/coordinate_descent.py:475: ConvergenceWarning: Objective did not converge. You might want to increase the number of iterations. Duality gap: 223686.44859713686, tolerance: 198.1439762028297\n",
      "  positive)\n",
      "/usr/local/lib/python3.7/site-packages/sklearn/linear_model/coordinate_descent.py:475: ConvergenceWarning: Objective did not converge. You might want to increase the number of iterations. Duality gap: 223610.63986322415, tolerance: 198.1439762028297\n",
      "  positive)\n",
      "/usr/local/lib/python3.7/site-packages/sklearn/linear_model/coordinate_descent.py:475: ConvergenceWarning: Objective did not converge. You might want to increase the number of iterations. Duality gap: 223532.28133418062, tolerance: 198.1439762028297\n",
      "  positive)\n",
      "/usr/local/lib/python3.7/site-packages/sklearn/linear_model/coordinate_descent.py:475: ConvergenceWarning: Objective did not converge. You might want to increase the number of iterations. Duality gap: 223450.67991992095, tolerance: 198.1439762028297\n",
      "  positive)\n",
      "/usr/local/lib/python3.7/site-packages/sklearn/linear_model/coordinate_descent.py:475: ConvergenceWarning: Objective did not converge. You might want to increase the number of iterations. Duality gap: 223365.57216709913, tolerance: 198.1439762028297\n",
      "  positive)\n",
      "/usr/local/lib/python3.7/site-packages/sklearn/linear_model/coordinate_descent.py:475: ConvergenceWarning: Objective did not converge. You might want to increase the number of iterations. Duality gap: 223276.55329328665, tolerance: 198.1439762028297\n",
      "  positive)\n",
      "/usr/local/lib/python3.7/site-packages/sklearn/linear_model/coordinate_descent.py:475: ConvergenceWarning: Objective did not converge. You might want to increase the number of iterations. Duality gap: 223183.14033132748, tolerance: 198.1439762028297\n",
      "  positive)\n",
      "/usr/local/lib/python3.7/site-packages/sklearn/linear_model/coordinate_descent.py:475: ConvergenceWarning: Objective did not converge. You might want to increase the number of iterations. Duality gap: 223084.26073075368, tolerance: 198.1439762028297\n",
      "  positive)\n",
      "/usr/local/lib/python3.7/site-packages/sklearn/linear_model/coordinate_descent.py:475: ConvergenceWarning: Objective did not converge. You might want to increase the number of iterations. Duality gap: 222979.4053265244, tolerance: 198.1439762028297\n",
      "  positive)\n",
      "/usr/local/lib/python3.7/site-packages/sklearn/linear_model/coordinate_descent.py:475: ConvergenceWarning: Objective did not converge. You might want to increase the number of iterations. Duality gap: 222868.1168422804, tolerance: 198.1439762028297\n",
      "  positive)\n",
      "/usr/local/lib/python3.7/site-packages/sklearn/linear_model/coordinate_descent.py:475: ConvergenceWarning: Objective did not converge. You might want to increase the number of iterations. Duality gap: 222748.33008723892, tolerance: 198.1439762028297\n",
      "  positive)\n",
      "/usr/local/lib/python3.7/site-packages/sklearn/linear_model/coordinate_descent.py:475: ConvergenceWarning: Objective did not converge. You might want to increase the number of iterations. Duality gap: 222619.09748870533, tolerance: 198.1439762028297\n",
      "  positive)\n",
      "/usr/local/lib/python3.7/site-packages/sklearn/linear_model/coordinate_descent.py:475: ConvergenceWarning: Objective did not converge. You might want to increase the number of iterations. Duality gap: 222481.16497274558, tolerance: 198.1439762028297\n",
      "  positive)\n",
      "/usr/local/lib/python3.7/site-packages/sklearn/linear_model/coordinate_descent.py:475: ConvergenceWarning: Objective did not converge. You might want to increase the number of iterations. Duality gap: 222378.68031956357, tolerance: 198.1439762028297\n",
      "  positive)\n",
      "/usr/local/lib/python3.7/site-packages/sklearn/linear_model/coordinate_descent.py:475: ConvergenceWarning: Objective did not converge. You might want to increase the number of iterations. Duality gap: 222327.18954771257, tolerance: 198.1439762028297\n",
      "  positive)\n",
      "/usr/local/lib/python3.7/site-packages/sklearn/linear_model/coordinate_descent.py:475: ConvergenceWarning: Objective did not converge. You might want to increase the number of iterations. Duality gap: 222275.60115727602, tolerance: 198.1439762028297\n",
      "  positive)\n",
      "/usr/local/lib/python3.7/site-packages/sklearn/linear_model/coordinate_descent.py:475: ConvergenceWarning: Objective did not converge. You might want to increase the number of iterations. Duality gap: 222223.2962366406, tolerance: 198.1439762028297\n",
      "  positive)\n",
      "/usr/local/lib/python3.7/site-packages/sklearn/linear_model/coordinate_descent.py:475: ConvergenceWarning: Objective did not converge. You might want to increase the number of iterations. Duality gap: 222170.5672563756, tolerance: 198.1439762028297\n",
      "  positive)\n",
      "/usr/local/lib/python3.7/site-packages/sklearn/linear_model/coordinate_descent.py:475: ConvergenceWarning: Objective did not converge. You might want to increase the number of iterations. Duality gap: 222117.7193256874, tolerance: 198.1439762028297\n",
      "  positive)\n",
      "/usr/local/lib/python3.7/site-packages/sklearn/linear_model/coordinate_descent.py:475: ConvergenceWarning: Objective did not converge. You might want to increase the number of iterations. Duality gap: 222064.09811384088, tolerance: 198.1439762028297\n",
      "  positive)\n",
      "/usr/local/lib/python3.7/site-packages/sklearn/linear_model/coordinate_descent.py:475: ConvergenceWarning: Objective did not converge. You might want to increase the number of iterations. Duality gap: 222010.16701062137, tolerance: 198.1439762028297\n",
      "  positive)\n",
      "/usr/local/lib/python3.7/site-packages/sklearn/linear_model/coordinate_descent.py:475: ConvergenceWarning: Objective did not converge. You might want to increase the number of iterations. Duality gap: 221955.80112635493, tolerance: 198.1439762028297\n",
      "  positive)\n",
      "/usr/local/lib/python3.7/site-packages/sklearn/linear_model/coordinate_descent.py:475: ConvergenceWarning: Objective did not converge. You might want to increase the number of iterations. Duality gap: 221900.7694466524, tolerance: 198.1439762028297\n",
      "  positive)\n",
      "/usr/local/lib/python3.7/site-packages/sklearn/linear_model/coordinate_descent.py:475: ConvergenceWarning: Objective did not converge. You might want to increase the number of iterations. Duality gap: 221845.57975355533, tolerance: 198.1439762028297\n",
      "  positive)\n",
      "/usr/local/lib/python3.7/site-packages/sklearn/linear_model/coordinate_descent.py:475: ConvergenceWarning: Objective did not converge. You might want to increase the number of iterations. Duality gap: 222973.34485829322, tolerance: 198.1439762028297\n",
      "  positive)\n",
      "/usr/local/lib/python3.7/site-packages/sklearn/linear_model/coordinate_descent.py:475: ConvergenceWarning: Objective did not converge. You might want to increase the number of iterations. Duality gap: 223143.86866673862, tolerance: 198.1439762028297\n",
      "  positive)\n",
      "/usr/local/lib/python3.7/site-packages/sklearn/linear_model/coordinate_descent.py:475: ConvergenceWarning: Objective did not converge. You might want to increase the number of iterations. Duality gap: 222927.40279582818, tolerance: 198.1439762028297\n",
      "  positive)\n",
      "/usr/local/lib/python3.7/site-packages/sklearn/linear_model/coordinate_descent.py:475: ConvergenceWarning: Objective did not converge. You might want to increase the number of iterations. Duality gap: 222601.82897338262, tolerance: 198.1439762028297\n",
      "  positive)\n",
      "/usr/local/lib/python3.7/site-packages/sklearn/linear_model/coordinate_descent.py:475: ConvergenceWarning: Objective did not converge. You might want to increase the number of iterations. Duality gap: 222256.70596356917, tolerance: 198.1439762028297\n",
      "  positive)\n",
      "/usr/local/lib/python3.7/site-packages/sklearn/linear_model/coordinate_descent.py:475: ConvergenceWarning: Objective did not converge. You might want to increase the number of iterations. Duality gap: 221924.94282838207, tolerance: 198.1439762028297\n",
      "  positive)\n",
      "/usr/local/lib/python3.7/site-packages/sklearn/linear_model/coordinate_descent.py:475: ConvergenceWarning: Objective did not converge. You might want to increase the number of iterations. Duality gap: 221618.98218143, tolerance: 198.1439762028297\n",
      "  positive)\n",
      "/usr/local/lib/python3.7/site-packages/sklearn/linear_model/coordinate_descent.py:475: ConvergenceWarning: Objective did not converge. You might want to increase the number of iterations. Duality gap: 221340.85092980086, tolerance: 198.1439762028297\n",
      "  positive)\n",
      "/usr/local/lib/python3.7/site-packages/sklearn/linear_model/coordinate_descent.py:475: ConvergenceWarning: Objective did not converge. You might want to increase the number of iterations. Duality gap: 221090.08875299868, tolerance: 198.1439762028297\n",
      "  positive)\n",
      "/usr/local/lib/python3.7/site-packages/sklearn/linear_model/coordinate_descent.py:475: ConvergenceWarning: Objective did not converge. You might want to increase the number of iterations. Duality gap: 220863.21180187835, tolerance: 198.1439762028297\n",
      "  positive)\n",
      "/usr/local/lib/python3.7/site-packages/sklearn/linear_model/coordinate_descent.py:475: ConvergenceWarning: Objective did not converge. You might want to increase the number of iterations. Duality gap: 220657.94467599518, tolerance: 198.1439762028297\n",
      "  positive)\n",
      "/usr/local/lib/python3.7/site-packages/sklearn/linear_model/coordinate_descent.py:475: ConvergenceWarning: Objective did not converge. You might want to increase the number of iterations. Duality gap: 220470.3995454848, tolerance: 198.1439762028297\n",
      "  positive)\n",
      "/usr/local/lib/python3.7/site-packages/sklearn/linear_model/coordinate_descent.py:475: ConvergenceWarning: Objective did not converge. You might want to increase the number of iterations. Duality gap: 220298.8586837463, tolerance: 198.1439762028297\n",
      "  positive)\n",
      "/usr/local/lib/python3.7/site-packages/sklearn/linear_model/coordinate_descent.py:475: ConvergenceWarning: Objective did not converge. You might want to increase the number of iterations. Duality gap: 220139.99132402064, tolerance: 198.1439762028297\n",
      "  positive)\n",
      "/usr/local/lib/python3.7/site-packages/sklearn/linear_model/coordinate_descent.py:475: ConvergenceWarning: Objective did not converge. You might want to increase the number of iterations. Duality gap: 219992.81179528078, tolerance: 198.1439762028297\n",
      "  positive)\n",
      "/usr/local/lib/python3.7/site-packages/sklearn/linear_model/coordinate_descent.py:475: ConvergenceWarning: Objective did not converge. You might want to increase the number of iterations. Duality gap: 219854.56127544417, tolerance: 198.1439762028297\n",
      "  positive)\n",
      "/usr/local/lib/python3.7/site-packages/sklearn/linear_model/coordinate_descent.py:475: ConvergenceWarning: Objective did not converge. You might want to increase the number of iterations. Duality gap: 219724.93008258656, tolerance: 198.1439762028297\n",
      "  positive)\n",
      "/usr/local/lib/python3.7/site-packages/sklearn/linear_model/coordinate_descent.py:475: ConvergenceWarning: Objective did not converge. You might want to increase the number of iterations. Duality gap: 219601.61986806357, tolerance: 198.1439762028297\n",
      "  positive)\n",
      "/usr/local/lib/python3.7/site-packages/sklearn/linear_model/coordinate_descent.py:475: ConvergenceWarning: Objective did not converge. You might want to increase the number of iterations. Duality gap: 219484.7376716813, tolerance: 198.1439762028297\n",
      "  positive)\n",
      "/usr/local/lib/python3.7/site-packages/sklearn/linear_model/coordinate_descent.py:475: ConvergenceWarning: Objective did not converge. You might want to increase the number of iterations. Duality gap: 219372.29276309625, tolerance: 198.1439762028297\n",
      "  positive)\n",
      "/usr/local/lib/python3.7/site-packages/sklearn/linear_model/coordinate_descent.py:475: ConvergenceWarning: Objective did not converge. You might want to increase the number of iterations. Duality gap: 219264.8398242549, tolerance: 198.1439762028297\n",
      "  positive)\n"
     ]
    },
    {
     "data": {
      "text/plain": [
       "<matplotlib.legend.Legend at 0x12c6cfda0>"
      ]
     },
     "execution_count": 77,
     "metadata": {},
     "output_type": "execute_result"
    },
    {
     "data": {
      "image/png": "[encoded data removed]",
      "text/plain": [
       "<Figure size 432x288 with 1 Axes>"
      ]
     },
     "metadata": {
      "needs_background": "light"
     },
     "output_type": "display_data"
    }
   ],
   "source": [
    "# Vaš kôd ovdje\n",
    "\n",
    "X = make_instances(-5, 5, 50)\n",
    "y = make_labels(X, f, noise=200)\n",
    "X_train, X_test, y_train, y_test = train_test_split(X, y, train_size=0.5)\n",
    "\n",
    "d = 10\n",
    "lambdas = [i for i in range(1, 101)]\n",
    "\n",
    "poly = PolynomialFeatures(degree=d)\n",
    "phi_train = poly.fit_transform(X_train)\n",
    "phi_test = poly.fit_transform(X_test)\n",
    "\n",
    "def L1(w):\n",
    "    suma = 0\n",
    "    for i in w:\n",
    "        suma += abs(i)\n",
    "    return suma\n",
    "\n",
    "def L2(w):\n",
    "    return np.dot(w,w)\n",
    "\n",
    "l0_values = []\n",
    "l1_values = []\n",
    "l2_values = []\n",
    "\n",
    "for l in lambdas:\n",
    "    reg = Lasso(alpha=l)\n",
    "    reg.fit(phi_train, y_train)\n",
    "    \n",
    "    l0_values.append(nonzeroes(reg.coef_[1:]))\n",
    "    l1_values.append(L1(reg.coef_))\n",
    "    l2_values.append(L2(reg.coef_))\n",
    "    \n",
    "    if l==100:\n",
    "        nonzero = l0_values[-1]\n",
    "        percentage = 1 - nonzero / (len(reg.coef_) - 1)\n",
    "        print(str(percentage*100) + \"% of the weights are equal to zero\")\n",
    "        \n",
    "\n",
    "plt.plot(lambdas, l0_values, label=\"L0\")\n",
    "plt.plot(lambdas, l1_values, label=\"L1\")\n",
    "plt.plot(lambdas, l2_values, label=\"L2\")\n",
    "plt.legend()\n",
    "\n"
   ]
  },
  {
   "cell_type": "markdown",
   "metadata": {},
   "source": [
    "### 7. Značajke različitih skala"
   ]
  },
  {
   "cell_type": "markdown",
   "metadata": {},
   "source": [
    "Često se u praksi možemo susreti sa podatcima u kojima sve značajke nisu jednakih magnituda. Primjer jednog takvog skupa je regresijski skup podataka `grades` u kojem se predviđa prosjek ocjena studenta na studiju (1--5) na temelju dvije značajke: bodova na prijamnom ispitu (1--3000) i prosjeka ocjena u srednjoj školi. Prosjek ocjena na studiju izračunat je kao težinska suma ove dvije značajke uz dodani šum.\n",
    "\n",
    "Koristite sljedeći kôd kako biste generirali ovaj skup podataka."
   ]
  },
  {
   "cell_type": "code",
   "execution_count": 78,
   "metadata": {},
   "outputs": [],
   "source": [
    "n_data_points = 500\n",
    "np.random.seed(69)\n",
    "\n",
    "# Generiraj podatke o bodovima na prijamnom ispitu koristeći normalnu razdiobu i ograniči ih na interval [1, 3000].\n",
    "exam_score = np.random.normal(loc=1500.0, scale = 500.0, size = n_data_points) \n",
    "exam_score = np.round(exam_score)\n",
    "exam_score[exam_score > 3000] = 3000\n",
    "exam_score[exam_score < 0] = 0\n",
    "\n",
    "# Generiraj podatke o ocjenama iz srednje škole koristeći normalnu razdiobu i ograniči ih na interval [1, 5].\n",
    "grade_in_highschool = np.random.normal(loc=3, scale = 2.0, size = n_data_points)\n",
    "grade_in_highschool[grade_in_highschool > 5] = 5\n",
    "grade_in_highschool[grade_in_highschool < 1] = 1\n",
    "\n",
    "# Matrica dizajna.\n",
    "grades_X = np.array([exam_score,grade_in_highschool]).T\n",
    "\n",
    "# Završno, generiraj izlazne vrijednosti.\n",
    "rand_noise = np.random.normal(loc=0.0, scale = 0.5, size = n_data_points)\n",
    "exam_influence = 0.9\n",
    "grades_y = ((exam_score / 3000.0) * (exam_influence) + (grade_in_highschool / 5.0) \\\n",
    "            * (1.0 - exam_influence)) * 5.0 + rand_noise\n",
    "grades_y[grades_y < 1] = 1\n",
    "grades_y[grades_y > 5] = 5"
   ]
  },
  {
   "cell_type": "code",
   "execution_count": 79,
   "metadata": {},
   "outputs": [
    {
     "name": "stdout",
     "output_type": "stream",
     "text": [
      "[[1.95800000e+03 1.86706705e+00]\n",
      " [1.19800000e+03 2.27906831e+00]\n",
      " [2.08100000e+03 2.24977689e+00]\n",
      " [1.19900000e+03 4.46642579e+00]\n",
      " [7.01000000e+02 4.56782193e+00]\n",
      " [1.69900000e+03 5.00000000e+00]\n",
      " [2.10300000e+03 3.05281284e+00]\n",
      " [2.02800000e+03 5.00000000e+00]\n",
      " [1.92600000e+03 4.60906690e+00]\n",
      " [1.84500000e+03 2.76893792e+00]\n",
      " [1.38800000e+03 1.00000000e+00]\n",
      " [1.23900000e+03 3.80966741e+00]\n",
      " [1.08000000e+03 1.62323499e+00]\n",
      " [2.09000000e+03 4.79451864e+00]\n",
      " [8.36000000e+02 1.83384809e+00]\n",
      " [1.43800000e+03 1.90590178e+00]\n",
      " [1.25100000e+03 5.00000000e+00]\n",
      " [5.26000000e+02 1.00000000e+00]\n",
      " [5.76000000e+02 1.53396022e+00]\n",
      " [1.63200000e+03 1.00000000e+00]\n",
      " [1.96700000e+03 4.29069642e+00]\n",
      " [9.15000000e+02 2.90390575e+00]\n",
      " [1.87000000e+03 5.00000000e+00]\n",
      " [9.44000000e+02 4.47084694e+00]\n",
      " [5.09000000e+02 1.53807759e+00]\n",
      " [9.03000000e+02 1.00000000e+00]\n",
      " [1.58400000e+03 3.24208227e+00]\n",
      " [4.51000000e+02 4.61615445e+00]\n",
      " [1.51000000e+03 3.17707529e+00]\n",
      " [1.65100000e+03 3.93337889e+00]\n",
      " [1.02000000e+03 1.80254080e+00]\n",
      " [2.29600000e+03 1.00000000e+00]\n",
      " [1.67600000e+03 4.16777896e+00]\n",
      " [1.17400000e+03 3.02714700e+00]\n",
      " [9.19000000e+02 3.33340700e+00]\n",
      " [3.58000000e+02 2.56337463e+00]\n",
      " [1.16900000e+03 2.95749422e+00]\n",
      " [1.36300000e+03 2.49552379e+00]\n",
      " [2.18800000e+03 5.00000000e+00]\n",
      " [1.40500000e+03 1.35427123e+00]\n",
      " [1.42100000e+03 5.00000000e+00]\n",
      " [8.10000000e+02 3.22811920e+00]\n",
      " [1.40800000e+03 5.00000000e+00]\n",
      " [1.44800000e+03 1.24642069e+00]\n",
      " [1.54200000e+03 5.00000000e+00]\n",
      " [1.88700000e+03 2.67499501e+00]\n",
      " [7.13000000e+02 3.08772754e+00]\n",
      " [7.92000000e+02 4.35766217e+00]\n",
      " [1.96500000e+03 3.66116320e+00]\n",
      " [1.69800000e+03 3.78379991e+00]\n",
      " [2.21100000e+03 1.70062702e+00]\n",
      " [2.66000000e+02 1.46852160e+00]\n",
      " [1.60000000e+03 4.26934317e+00]\n",
      " [8.91000000e+02 4.09322134e+00]\n",
      " [1.13000000e+03 4.75290560e+00]\n",
      " [2.03100000e+03 3.91982977e+00]\n",
      " [1.14300000e+03 1.00000000e+00]\n",
      " [2.42700000e+03 5.00000000e+00]\n",
      " [2.26200000e+03 4.87790885e+00]\n",
      " [6.03000000e+02 1.00000000e+00]\n",
      " [1.18600000e+03 3.42669620e+00]\n",
      " [1.56500000e+03 4.01145896e+00]\n",
      " [2.36200000e+03 1.00000000e+00]\n",
      " [1.14900000e+03 4.56399343e+00]\n",
      " [1.56600000e+03 1.00000000e+00]\n",
      " [6.49000000e+02 2.19663110e+00]\n",
      " [4.47000000e+02 1.00000000e+00]\n",
      " [1.86800000e+03 3.54729777e+00]\n",
      " [1.16500000e+03 1.00000000e+00]\n",
      " [1.42500000e+03 4.78161923e+00]\n",
      " [1.40000000e+03 1.52504034e+00]\n",
      " [1.42100000e+03 1.00000000e+00]\n",
      " [2.25500000e+03 2.80541269e+00]\n",
      " [1.28900000e+03 5.00000000e+00]\n",
      " [1.89600000e+03 5.00000000e+00]\n",
      " [2.23700000e+03 1.91340175e+00]\n",
      " [1.93700000e+03 2.03758132e+00]\n",
      " [9.13000000e+02 5.00000000e+00]\n",
      " [1.80200000e+03 1.94470873e+00]\n",
      " [1.08200000e+03 1.12958124e+00]\n",
      " [2.21800000e+03 5.00000000e+00]\n",
      " [2.29700000e+03 1.00000000e+00]\n",
      " [1.70100000e+03 4.70397930e+00]\n",
      " [2.44900000e+03 1.00000000e+00]\n",
      " [2.39200000e+03 1.00000000e+00]\n",
      " [2.22200000e+03 4.10339623e+00]\n",
      " [1.89700000e+03 4.82986783e+00]\n",
      " [1.28700000e+03 4.36568659e+00]\n",
      " [7.59000000e+02 1.00000000e+00]\n",
      " [1.67900000e+03 4.34027129e+00]\n",
      " [1.59400000e+03 5.00000000e+00]\n",
      " [1.96700000e+03 3.02286384e+00]\n",
      " [1.41000000e+03 3.67058155e+00]\n",
      " [1.95000000e+03 1.89885129e+00]\n",
      " [2.56000000e+03 2.88652757e+00]\n",
      " [1.95500000e+03 1.58032671e+00]\n",
      " [1.52700000e+03 4.60138867e+00]\n",
      " [1.57600000e+03 1.11061282e+00]\n",
      " [7.54000000e+02 2.87951106e+00]\n",
      " [1.35600000e+03 5.00000000e+00]\n",
      " [1.33500000e+03 3.81960526e+00]\n",
      " [1.76700000e+03 1.71716815e+00]\n",
      " [1.63400000e+03 5.00000000e+00]\n",
      " [1.18500000e+03 3.17364479e+00]\n",
      " [1.44500000e+03 5.00000000e+00]\n",
      " [1.35200000e+03 1.00000000e+00]\n",
      " [1.98100000e+03 1.56078924e+00]\n",
      " [1.41900000e+03 1.00000000e+00]\n",
      " [2.33100000e+03 1.64745868e+00]\n",
      " [1.24400000e+03 4.09336249e+00]\n",
      " [8.58000000e+02 2.39045981e+00]\n",
      " [3.74000000e+02 1.74502338e+00]\n",
      " [1.06400000e+03 1.00000000e+00]\n",
      " [1.99900000e+03 1.00000000e+00]\n",
      " [2.44200000e+03 4.45317008e+00]\n",
      " [1.97200000e+03 1.15373052e+00]\n",
      " [1.22800000e+03 3.83309318e+00]\n",
      " [1.61900000e+03 4.08540509e+00]\n",
      " [3.30000000e+02 3.09128305e+00]\n",
      " [1.55700000e+03 5.00000000e+00]\n",
      " [5.13000000e+02 2.23485372e+00]\n",
      " [8.70000000e+02 5.00000000e+00]\n",
      " [1.67300000e+03 3.73761159e+00]\n",
      " [1.35200000e+03 3.25995754e+00]\n",
      " [2.18400000e+03 2.13629558e+00]\n",
      " [1.39500000e+03 5.00000000e+00]\n",
      " [6.41000000e+02 3.72052597e+00]\n",
      " [2.05100000e+03 3.33380988e+00]\n",
      " [1.89600000e+03 5.00000000e+00]\n",
      " [1.73100000e+03 2.87304865e+00]\n",
      " [1.66400000e+03 1.83714186e+00]\n",
      " [1.26500000e+03 2.08713913e+00]\n",
      " [2.61700000e+03 4.14834181e+00]\n",
      " [2.41700000e+03 2.75609848e+00]\n",
      " [1.44600000e+03 4.05129900e+00]\n",
      " [2.01900000e+03 2.93340494e+00]\n",
      " [1.47400000e+03 1.79250193e+00]\n",
      " [8.77000000e+02 1.00000000e+00]\n",
      " [1.47800000e+03 4.55794401e+00]\n",
      " [1.04800000e+03 1.00000000e+00]\n",
      " [1.82900000e+03 5.00000000e+00]\n",
      " [1.65300000e+03 2.53102570e+00]\n",
      " [9.03000000e+02 1.00000000e+00]\n",
      " [1.04400000e+03 1.00000000e+00]\n",
      " [2.00000000e+03 2.28095657e+00]\n",
      " [1.87800000e+03 3.20927134e+00]\n",
      " [9.55000000e+02 3.78096387e+00]\n",
      " [1.18600000e+03 5.00000000e+00]\n",
      " [1.62600000e+03 3.74077965e+00]\n",
      " [9.99000000e+02 4.29769565e+00]\n",
      " [1.50500000e+03 1.73256687e+00]\n",
      " [1.80300000e+03 1.88714895e+00]\n",
      " [1.35500000e+03 2.95537672e+00]\n",
      " [2.03100000e+03 2.02648345e+00]\n",
      " [1.55000000e+03 1.69112809e+00]\n",
      " [1.86200000e+03 1.45385632e+00]\n",
      " [1.45000000e+03 1.00000000e+00]\n",
      " [1.20200000e+03 1.00000000e+00]\n",
      " [2.21200000e+03 3.03554517e+00]\n",
      " [1.00200000e+03 5.00000000e+00]\n",
      " [2.96900000e+03 2.07828226e+00]\n",
      " [2.04600000e+03 3.33221656e+00]\n",
      " [2.14700000e+03 1.00000000e+00]\n",
      " [1.78600000e+03 1.00000000e+00]\n",
      " [9.15000000e+02 5.00000000e+00]\n",
      " [1.57300000e+03 3.60334853e+00]\n",
      " [1.32100000e+03 2.56056041e+00]\n",
      " [1.27000000e+03 2.65074092e+00]\n",
      " [1.24000000e+03 4.49858512e+00]\n",
      " [2.05100000e+03 3.97807706e+00]\n",
      " [7.26000000e+02 5.00000000e+00]\n",
      " [1.37900000e+03 2.73215241e+00]\n",
      " [2.05800000e+03 1.56159057e+00]\n",
      " [1.71700000e+03 3.30451305e+00]\n",
      " [1.09200000e+03 3.46381730e+00]\n",
      " [1.91200000e+03 4.49875391e+00]\n",
      " [1.21200000e+03 5.00000000e+00]\n",
      " [1.66600000e+03 1.00000000e+00]\n",
      " [8.88000000e+02 2.95618838e+00]\n",
      " [1.85600000e+03 3.17227461e+00]\n",
      " [4.52000000e+02 5.00000000e+00]\n",
      " [1.69000000e+03 1.05056611e+00]\n",
      " [1.23600000e+03 1.07693455e+00]\n",
      " [1.78500000e+03 4.76250384e+00]\n",
      " [2.49000000e+02 2.93813833e+00]\n",
      " [1.14700000e+03 2.74322930e+00]\n",
      " [1.57400000e+03 4.67588125e+00]\n",
      " [8.14000000e+02 4.83536571e+00]\n",
      " [2.32900000e+03 1.00000000e+00]\n",
      " [4.37000000e+02 2.89341214e+00]\n",
      " [1.32100000e+03 3.31883842e+00]\n",
      " [6.43000000e+02 2.43427979e+00]\n",
      " [1.20300000e+03 1.59808212e+00]\n",
      " [1.72200000e+03 4.56027493e+00]\n",
      " [1.52500000e+03 3.46011517e+00]\n",
      " [1.65400000e+03 2.72232320e+00]\n",
      " [1.49000000e+03 5.00000000e+00]\n",
      " [1.47400000e+03 5.00000000e+00]\n",
      " [1.69700000e+03 4.57138607e+00]\n",
      " [2.55900000e+03 4.34921027e+00]\n",
      " [1.75300000e+03 1.45777969e+00]\n",
      " [1.57300000e+03 3.65575905e+00]\n",
      " [1.42400000e+03 1.82711067e+00]\n",
      " [8.48000000e+02 3.83148557e+00]\n",
      " [1.13400000e+03 2.32827892e+00]\n",
      " [1.15200000e+03 2.10026059e+00]\n",
      " [2.01400000e+03 4.58070216e+00]\n",
      " [1.91500000e+03 2.23983123e+00]\n",
      " [1.94200000e+03 4.25667765e+00]\n",
      " [1.39800000e+03 4.63006696e+00]\n",
      " [2.03700000e+03 3.65231949e+00]\n",
      " [1.58700000e+03 1.00000000e+00]\n",
      " [1.73500000e+03 3.57588965e+00]\n",
      " [1.27100000e+03 2.68788382e+00]\n",
      " [1.71900000e+03 4.72913012e+00]\n",
      " [1.46500000e+03 5.00000000e+00]\n",
      " [1.66700000e+03 5.00000000e+00]\n",
      " [1.84000000e+03 5.00000000e+00]\n",
      " [7.23000000e+02 5.00000000e+00]\n",
      " [1.20600000e+03 2.70144235e+00]\n",
      " [1.60600000e+03 1.64291968e+00]\n",
      " [1.93100000e+03 1.01996641e+00]\n",
      " [1.58200000e+03 1.00000000e+00]\n",
      " [2.01800000e+03 5.00000000e+00]\n",
      " [1.44300000e+03 1.75585797e+00]\n",
      " [1.91100000e+03 2.33769976e+00]\n",
      " [9.94000000e+02 4.48602303e+00]\n",
      " [1.20300000e+03 3.69658552e+00]\n",
      " [1.88300000e+03 4.25712041e+00]\n",
      " [1.61900000e+03 5.00000000e+00]\n",
      " [5.33000000e+02 2.70409052e+00]\n",
      " [1.97700000e+03 2.47687330e+00]\n",
      " [1.84000000e+02 1.20469838e+00]\n",
      " [1.43600000e+03 5.00000000e+00]\n",
      " [1.29000000e+02 1.65327646e+00]\n",
      " [1.42600000e+03 3.02020087e+00]\n",
      " [1.49100000e+03 2.78837284e+00]\n",
      " [2.08500000e+03 1.03850612e+00]\n",
      " [1.07200000e+03 4.95765671e+00]\n",
      " [1.10600000e+03 3.45316665e+00]\n",
      " [6.21000000e+02 4.33731010e+00]\n",
      " [2.33900000e+03 5.00000000e+00]\n",
      " [5.89000000e+02 1.07924918e+00]\n",
      " [2.24600000e+03 1.00000000e+00]\n",
      " [1.95800000e+03 1.78872596e+00]\n",
      " [1.82000000e+03 1.00000000e+00]\n",
      " [2.01300000e+03 3.36091376e+00]\n",
      " [1.31900000e+03 1.63498484e+00]\n",
      " [4.02000000e+02 4.32271192e+00]\n",
      " [1.84900000e+03 1.74368032e+00]\n",
      " [1.62300000e+03 2.61911308e+00]\n",
      " [2.17200000e+03 4.51751587e+00]\n",
      " [1.25700000e+03 1.05259830e+00]\n",
      " [1.37500000e+03 4.40067169e+00]\n",
      " [2.47400000e+03 3.67803539e+00]\n",
      " [1.26700000e+03 1.00000000e+00]\n",
      " [1.99800000e+03 2.65063950e+00]\n",
      " [1.60800000e+03 1.00000000e+00]\n",
      " [1.53900000e+03 1.77204133e+00]\n",
      " [1.26500000e+03 5.00000000e+00]\n",
      " [1.08100000e+03 1.65673255e+00]\n",
      " [8.05000000e+02 2.96544002e+00]\n",
      " [8.70000000e+02 1.00000000e+00]\n",
      " [2.50100000e+03 4.66944340e+00]\n",
      " [2.00800000e+03 4.05999317e+00]\n",
      " [1.01600000e+03 1.00000000e+00]\n",
      " [1.78500000e+03 4.78146455e+00]\n",
      " [2.05100000e+03 4.76676569e+00]\n",
      " [1.97700000e+03 1.16036591e+00]\n",
      " [7.50000000e+02 1.24392676e+00]\n",
      " [6.75000000e+02 1.74919554e+00]\n",
      " [2.37700000e+03 3.13510050e+00]\n",
      " [1.06500000e+03 5.00000000e+00]\n",
      " [1.53000000e+03 4.18499758e+00]\n",
      " [2.54300000e+03 1.78144870e+00]\n",
      " [1.32800000e+03 5.00000000e+00]\n",
      " [4.31000000e+02 1.30579212e+00]\n",
      " [1.05000000e+03 1.00000000e+00]\n",
      " [1.82900000e+03 2.56115623e+00]\n",
      " [1.51700000e+03 3.49645315e+00]\n",
      " [1.42700000e+03 1.00000000e+00]\n",
      " [1.98300000e+03 1.79076189e+00]\n",
      " [8.21000000e+02 1.00000000e+00]\n",
      " [1.29200000e+03 4.61864792e+00]\n",
      " [1.19100000e+03 2.59696379e+00]\n",
      " [1.98000000e+03 5.00000000e+00]\n",
      " [1.42300000e+03 1.80960916e+00]\n",
      " [1.72400000e+03 1.87250053e+00]\n",
      " [2.36900000e+03 4.95242984e+00]\n",
      " [8.66000000e+02 1.00000000e+00]\n",
      " [2.00800000e+03 2.18010962e+00]\n",
      " [1.93500000e+03 3.61544085e+00]\n",
      " [1.08400000e+03 2.68572504e+00]\n",
      " [7.92000000e+02 1.00000000e+00]\n",
      " [1.66000000e+03 1.19152414e+00]\n",
      " [2.22800000e+03 4.47541568e+00]\n",
      " [1.66400000e+03 1.00000000e+00]\n",
      " [1.64100000e+03 2.84061483e+00]\n",
      " [8.54000000e+02 3.80683084e+00]\n",
      " [7.60000000e+02 1.14678761e+00]\n",
      " [1.76700000e+03 5.00000000e+00]\n",
      " [1.94400000e+03 1.00000000e+00]\n",
      " [1.21000000e+03 3.85865500e+00]\n",
      " [1.11500000e+03 4.16286631e+00]\n",
      " [1.05400000e+03 2.85744790e+00]\n",
      " [1.81200000e+03 1.00000000e+00]\n",
      " [1.37500000e+03 2.89873643e+00]\n",
      " [7.80000000e+01 1.00000000e+00]\n",
      " [1.33300000e+03 5.00000000e+00]\n",
      " [1.71400000e+03 3.14590440e+00]\n",
      " [1.21800000e+03 1.42587138e+00]\n",
      " [5.97000000e+02 3.86600363e+00]\n",
      " [2.83300000e+03 5.00000000e+00]\n",
      " [8.84000000e+02 2.84767587e+00]\n",
      " [1.84500000e+03 4.01595700e+00]\n",
      " [1.67000000e+03 2.26308317e+00]\n",
      " [4.20000000e+02 2.19850914e+00]\n",
      " [1.18000000e+03 2.28729275e+00]\n",
      " [1.71200000e+03 4.28623059e+00]\n",
      " [1.21200000e+03 1.67984508e+00]\n",
      " [2.07300000e+03 1.00000000e+00]\n",
      " [1.43100000e+03 1.81673631e+00]\n",
      " [6.35000000e+02 1.00000000e+00]\n",
      " [1.07500000e+03 1.76817781e+00]\n",
      " [1.07000000e+03 4.38854755e+00]\n",
      " [1.71500000e+03 2.50247895e+00]\n",
      " [1.08800000e+03 3.91080197e+00]\n",
      " [1.08300000e+03 1.00000000e+00]\n",
      " [1.63600000e+03 1.00000000e+00]\n",
      " [5.33000000e+02 4.21577382e+00]\n",
      " [1.55100000e+03 2.66392301e+00]\n",
      " [1.73800000e+03 3.01164788e+00]\n",
      " [1.46000000e+03 5.00000000e+00]\n",
      " [3.68000000e+02 1.32798058e+00]\n",
      " [1.92400000e+03 1.00000000e+00]\n",
      " [1.68000000e+03 4.19827043e+00]\n",
      " [1.82600000e+03 3.39078068e+00]\n",
      " [2.13500000e+03 2.02215098e+00]\n",
      " [1.99000000e+03 1.84342423e+00]\n",
      " [5.19000000e+02 5.00000000e+00]\n",
      " [1.65400000e+03 5.00000000e+00]\n",
      " [1.21300000e+03 5.00000000e+00]\n",
      " [1.71400000e+03 2.44387378e+00]\n",
      " [9.00000000e+02 2.29484777e+00]\n",
      " [7.78000000e+02 3.26778687e+00]\n",
      " [3.25000000e+02 5.00000000e+00]\n",
      " [9.93000000e+02 2.80969493e+00]\n",
      " [1.76200000e+03 2.02381663e+00]\n",
      " [2.44600000e+03 5.00000000e+00]\n",
      " [2.52700000e+03 3.92055485e+00]\n",
      " [1.82000000e+03 4.51794716e+00]\n",
      " [1.48700000e+03 3.74678635e+00]\n",
      " [1.65300000e+03 3.52543437e+00]\n",
      " [1.17600000e+03 3.95093857e+00]\n",
      " [1.81900000e+03 1.69658704e+00]\n",
      " [1.33100000e+03 2.74026727e+00]\n",
      " [1.18200000e+03 5.00000000e+00]\n",
      " [1.50000000e+03 4.76926986e+00]\n",
      " [3.70000000e+02 2.52473120e+00]\n",
      " [2.00700000e+03 1.00000000e+00]\n",
      " [8.69000000e+02 1.00000000e+00]\n",
      " [1.27700000e+03 1.18166959e+00]\n",
      " [2.19700000e+03 3.84214510e+00]\n",
      " [1.86600000e+03 4.52742334e+00]\n",
      " [5.92000000e+02 3.39353296e+00]\n",
      " [1.82400000e+03 1.00000000e+00]\n",
      " [9.56000000e+02 4.63495240e+00]\n",
      " [1.03100000e+03 1.58097903e+00]\n",
      " [1.13500000e+03 5.00000000e+00]\n",
      " [9.07000000e+02 3.21089730e+00]\n",
      " [8.37000000e+02 5.00000000e+00]\n",
      " [1.43000000e+03 2.74322385e+00]\n",
      " [1.03500000e+03 1.00000000e+00]\n",
      " [9.57000000e+02 5.00000000e+00]\n",
      " [1.84700000e+03 1.00000000e+00]\n",
      " [8.29000000e+02 4.07326346e+00]\n",
      " [2.09200000e+03 3.77586030e+00]\n",
      " [1.23200000e+03 4.27452451e+00]\n",
      " [1.38700000e+03 4.68056364e+00]\n",
      " [2.13100000e+03 2.73240616e+00]\n",
      " [1.24400000e+03 1.00000000e+00]\n",
      " [1.41100000e+03 4.42025726e+00]\n",
      " [1.53500000e+03 2.58541808e+00]\n",
      " [5.95000000e+02 5.00000000e+00]\n",
      " [1.26700000e+03 5.00000000e+00]\n",
      " [1.66700000e+03 5.00000000e+00]\n",
      " [5.57000000e+02 3.61955065e+00]\n",
      " [1.81900000e+03 5.00000000e+00]\n",
      " [1.67000000e+03 1.35880710e+00]\n",
      " [1.84200000e+03 4.44608708e+00]\n",
      " [1.29600000e+03 1.00000000e+00]\n",
      " [1.72500000e+03 2.00842494e+00]\n",
      " [3.78000000e+02 1.15090101e+00]\n",
      " [1.05200000e+03 1.85922401e+00]\n",
      " [1.09500000e+03 1.00000000e+00]\n",
      " [1.41700000e+03 4.52869366e+00]\n",
      " [8.51000000e+02 2.71150925e+00]\n",
      " [1.44100000e+03 5.00000000e+00]\n",
      " [7.92000000e+02 1.62213378e+00]\n",
      " [1.43500000e+03 3.35464196e+00]\n",
      " [1.40200000e+03 1.00000000e+00]\n",
      " [1.95200000e+03 1.00000000e+00]\n",
      " [1.93800000e+03 2.13003840e+00]\n",
      " [1.47200000e+03 2.82400742e+00]\n",
      " [2.42200000e+03 1.00000000e+00]\n",
      " [1.04900000e+03 5.00000000e+00]\n",
      " [1.41200000e+03 1.35120093e+00]\n",
      " [1.63300000e+03 5.00000000e+00]\n",
      " [1.61800000e+03 3.68251056e+00]\n",
      " [1.70800000e+03 1.00000000e+00]\n",
      " [1.65800000e+03 4.83167606e+00]\n",
      " [1.79300000e+03 1.51621423e+00]\n",
      " [1.61600000e+03 1.00000000e+00]\n",
      " [1.53600000e+03 5.00000000e+00]\n",
      " [1.34000000e+03 1.00000000e+00]\n",
      " [1.98800000e+03 3.15737998e+00]\n",
      " [1.33900000e+03 1.00000000e+00]\n",
      " [1.57500000e+03 1.00000000e+00]\n",
      " [1.40400000e+03 4.20784156e+00]\n",
      " [1.34200000e+03 4.19146548e+00]\n",
      " [1.83700000e+03 2.64360250e+00]\n",
      " [5.82000000e+02 3.63901189e+00]\n",
      " [1.41500000e+03 1.63242362e+00]\n",
      " [1.17100000e+03 1.00000000e+00]\n",
      " [1.05700000e+03 5.00000000e+00]\n",
      " [1.49100000e+03 3.71175170e+00]\n",
      " [1.06900000e+03 5.00000000e+00]\n",
      " [1.50900000e+03 5.00000000e+00]\n",
      " [7.21000000e+02 5.00000000e+00]\n",
      " [1.03800000e+03 2.72928311e+00]\n",
      " [1.90400000e+03 2.38432622e+00]\n",
      " [1.33700000e+03 2.95578263e+00]\n",
      " [1.60100000e+03 4.10725729e+00]\n",
      " [8.92000000e+02 2.28423058e+00]\n",
      " [9.33000000e+02 1.00000000e+00]\n",
      " [1.36400000e+03 5.00000000e+00]\n",
      " [1.90900000e+03 3.01047078e+00]\n",
      " [4.80000000e+02 1.00000000e+00]\n",
      " [1.72700000e+03 2.70137809e+00]\n",
      " [8.95000000e+02 1.00000000e+00]\n",
      " [1.15300000e+03 5.00000000e+00]\n",
      " [1.63600000e+03 5.00000000e+00]\n",
      " [1.21800000e+03 1.00000000e+00]\n",
      " [1.89500000e+03 1.00000000e+00]\n",
      " [2.21900000e+03 4.55186508e+00]\n",
      " [1.35400000e+03 3.06258367e+00]\n",
      " [1.37100000e+03 4.01925155e+00]\n",
      " [5.88000000e+02 2.94498076e+00]\n",
      " [1.59000000e+03 1.07163252e+00]\n",
      " [1.79100000e+03 1.92236849e+00]\n",
      " [1.26400000e+03 5.00000000e+00]\n",
      " [1.80200000e+03 3.19753687e+00]\n",
      " [2.21600000e+03 4.15526905e+00]\n",
      " [1.19500000e+03 2.42260534e+00]\n",
      " [1.38800000e+03 1.00000000e+00]\n",
      " [1.32000000e+03 2.23398401e+00]\n",
      " [1.80800000e+03 5.00000000e+00]\n",
      " [1.66500000e+03 3.82080287e+00]\n",
      " [5.58000000e+02 1.41012992e+00]\n",
      " [1.73900000e+03 3.92454238e+00]\n",
      " [1.43100000e+03 3.61152167e+00]\n",
      " [1.08100000e+03 3.09410267e+00]\n",
      " [2.18200000e+03 2.74900637e+00]\n",
      " [1.99200000e+03 5.00000000e+00]\n",
      " [1.75300000e+03 3.12898887e+00]\n",
      " [4.70000000e+02 3.06949501e+00]\n",
      " [1.80500000e+03 4.27473699e+00]\n",
      " [1.65800000e+03 1.00000000e+00]\n",
      " [1.41300000e+03 5.00000000e+00]\n",
      " [1.57000000e+03 1.75696344e+00]\n",
      " [1.58100000e+03 4.19178232e+00]\n",
      " [1.67600000e+03 3.49010985e+00]\n",
      " [1.47700000e+03 2.48841781e+00]\n",
      " [1.56100000e+03 1.81229686e+00]\n",
      " [2.28400000e+03 4.90482026e+00]\n",
      " [1.14300000e+03 3.66636722e+00]\n",
      " [1.40400000e+03 1.49693492e+00]\n",
      " [1.87000000e+03 4.05853873e+00]\n",
      " [1.93200000e+03 1.29431385e+00]\n",
      " [1.57900000e+03 5.00000000e+00]\n",
      " [2.40400000e+03 2.37458125e+00]\n",
      " [5.35000000e+02 2.66370458e+00]\n",
      " [1.27800000e+03 1.00000000e+00]\n",
      " [1.05900000e+03 1.45619547e+00]\n",
      " [1.98400000e+03 1.00000000e+00]\n",
      " [1.26800000e+03 3.78939141e+00]\n",
      " [1.58900000e+03 5.00000000e+00]\n",
      " [1.99700000e+03 3.39911768e+00]\n",
      " [1.34300000e+03 2.51784424e+00]\n",
      " [1.05500000e+03 4.89091785e+00]\n",
      " [1.32300000e+03 1.49766423e+00]\n",
      " [2.52300000e+03 3.45648334e+00]\n",
      " [1.84500000e+03 1.00000000e+00]\n",
      " [2.33700000e+03 3.59781341e+00]\n",
      " [1.38800000e+03 3.82756249e+00]\n",
      " [1.91700000e+03 5.00000000e+00]\n",
      " [1.29400000e+03 1.00000000e+00]\n",
      " [1.29600000e+03 4.16787778e+00]\n",
      " [1.88600000e+03 4.81613585e+00]\n",
      " [1.45100000e+03 4.77186131e+00]]\n"
     ]
    },
    {
     "data": {
      "image/png": "[encoded data removed]",
      "text/plain": [
       "<Figure size 432x288 with 1 Axes>"
      ]
     },
     "metadata": {
      "needs_background": "light"
     },
     "output_type": "display_data"
    }
   ],
   "source": [
    "from mpl_toolkits import mplot3d\n",
    "\n",
    "ax = plt.axes(projection='3d')\n",
    "\n",
    "# Data for three-dimensional scattered points\n",
    "ax.scatter3D(exam_score, grade_in_highschool, grades_y, c=grades_y);\n",
    "\n",
    "print(grades_X)"
   ]
  },
  {
   "cell_type": "markdown",
   "metadata": {},
   "source": [
    "**a)** Iscrtajte ovisnost ciljne vrijednosti (y-os) o prvoj i o drugoj značajki (x-os). Iscrtajte dva odvojena grafa."
   ]
  },
  {
   "cell_type": "code",
   "execution_count": 80,
   "metadata": {},
   "outputs": [
    {
     "data": {
      "text/plain": [
       "<matplotlib.collections.PathCollection at 0x12c961e10>"
      ]
     },
     "execution_count": 80,
     "metadata": {},
     "output_type": "execute_result"
    },
    {
     "data": {
      "image/png": "[encoded data removed]",
      "text/plain": [
       "<Figure size 432x288 with 2 Axes>"
      ]
     },
     "metadata": {
      "needs_background": "light"
     },
     "output_type": "display_data"
    }
   ],
   "source": [
    "# Vaš kôd ovdje\n",
    "\n",
    "f, axes = plt.subplots(1,2)\n",
    "axes[0].scatter(exam_score, grades_y)\n",
    "axes[1].scatter(grade_in_highschool, grades_y)"
   ]
  },
  {
   "cell_type": "markdown",
   "metadata": {},
   "source": [
    "**b)** Naučite model L2-regularizirane regresije ($\\lambda = 0.01$), na podacima `grades_X` i `grades_y`:"
   ]
  },
  {
   "cell_type": "code",
   "execution_count": 81,
   "metadata": {},
   "outputs": [
    {
     "name": "stdout",
     "output_type": "stream",
     "text": [
      "[0.00141497 0.09477276]\n"
     ]
    },
    {
     "data": {
      "image/png": "[encoded data removed]",
      "text/plain": [
       "<Figure size 432x288 with 1 Axes>"
      ]
     },
     "metadata": {
      "needs_background": "light"
     },
     "output_type": "display_data"
    }
   ],
   "source": [
    "# Vaš kôd ovdje\n",
    "l = 0.01\n",
    "\n",
    "reg = Ridge(alpha=l)\n",
    "reg.fit(grades_X, grades_y)\n",
    "print(reg.coef_)\n",
    "y_pred = reg.predict(grades_X)\n",
    "\n",
    "ax = plt.axes(projection='3d')\n",
    "ax.scatter3D(exam_score, grade_in_highschool, grades_y, c=grades_y);\n",
    "ax.plot3D(exam_score, grade_in_highschool, y_pred);\n",
    "\n",
    "ax.view_init(30, 200)\n",
    "plt.draw()\n"
   ]
  },
  {
   "cell_type": "markdown",
   "metadata": {},
   "source": [
    "Sada ponovite gornji eksperiment, ali prvo skalirajte podatke `grades_X` i `grades_y` i spremite ih u varijable `grades_X_fixed` i `grades_y_fixed`. Za tu svrhu, koristite [`StandardScaler`](http://scikit-learn.org/stable/modules/generated/sklearn.preprocessing.StandardScaler.html)."
   ]
  },
  {
   "cell_type": "code",
   "execution_count": 82,
   "metadata": {},
   "outputs": [],
   "source": [
    "from sklearn.preprocessing import StandardScaler"
   ]
  },
  {
   "cell_type": "code",
   "execution_count": 103,
   "metadata": {},
   "outputs": [
    {
     "name": "stdout",
     "output_type": "stream",
     "text": [
      "[0.81630375 0.15167761]\n"
     ]
    }
   ],
   "source": [
    "# Vaš kôd ovdje\n",
    "scaler = StandardScaler()\n",
    "scaler.fit(grades_X)\n",
    "grades_X_fixed = scaler.transform(grades_X)\n",
    "\n",
    "scaler.fit(grades_y.reshape(-1,1))\n",
    "grades_y_fixed = scaler.transform(grades_y.reshape(-1,1))\n",
    "grades_y_fixed = grades_y_fixed.reshape(1,-1)[0]\n",
    "\n",
    "reg = Ridge(alpha=l)\n",
    "reg.fit(grades_X_fixed, grades_y_fixed)\n",
    "y_pred = reg.predict(grades_X_fixed)\n",
    "print(reg.coef_)\n",
    "\n",
    "#ax = plt.axes(projection='3d')\n",
    "#ax.scatter3D(exam_score, grade_in_highschool, grades_y_fixed, c=grades_y);\n",
    "#ax.plot3D(exam_score, grade_in_highschool, y_pred);\n",
    "\n",
    "#ax.view_init(30, -10)\n",
    "#plt.draw()\n",
    "\n"
   ]
  },
  {
   "cell_type": "markdown",
   "metadata": {},
   "source": [
    "**Q:** Gledajući grafikone iz podzadatka (a), koja značajka bi trebala imati veću magnitudu, odnosno važnost pri predikciji prosjeka na studiju? Odgovaraju li težine Vašoj intuiciji? Objasnite.  "
   ]
  },
  {
   "cell_type": "markdown",
   "metadata": {},
   "source": [
    "### 8. Multikolinearnost i kondicija matrice"
   ]
  },
  {
   "cell_type": "markdown",
   "metadata": {},
   "source": [
    "**a)** Izradite skup podataka `grades_X_fixed_colinear` tako što ćete u skupu `grades_X_fixed` iz\n",
    "zadatka *7b* duplicirati zadnji stupac (ocjenu iz srednje škole). Time smo efektivno uveli savršenu multikolinearnost."
   ]
  },
  {
   "cell_type": "code",
   "execution_count": 104,
   "metadata": {},
   "outputs": [
    {
     "data": {
      "text/plain": [
       "array([[ 0.95063817, -0.78607869, -0.78607869],\n",
       "       [-0.50343434, -0.50193004, -0.50193004],\n",
       "       [ 1.18596832, -0.52213172, -0.52213172],\n",
       "       ...,\n",
       "       [-0.31593552,  0.80074234,  0.80074234],\n",
       "       [ 0.81288393,  1.24783236,  1.24783236],\n",
       "       [-0.01938126,  1.21729714,  1.21729714]])"
      ]
     },
     "execution_count": 104,
     "metadata": {},
     "output_type": "execute_result"
    }
   ],
   "source": [
    "# Vaš kôd ovdje\n",
    "#print(grades_X_fixed)\n",
    "#print(grades_X_fixed[0:][1])\n",
    "last_column = [grades_X_fixed[i][1] for i in range(len(grades_X_fixed))]\n",
    "last_column\n",
    "grades_X_fixed.T\n",
    "\n",
    "grades_X_fixed_colinear = []\n",
    "for row in grades_X_fixed.T:\n",
    "    grades_X_fixed_colinear.append(row)\n",
    "\n",
    "grades_X_fixed_colinear.append(last_column)\n",
    "\n",
    "grades_X_fixed_colinear = np.array(grades_X_fixed_colinear).T\n",
    "grades_X_fixed_colinear"
   ]
  },
  {
   "cell_type": "markdown",
   "metadata": {},
   "source": [
    "Ponovno, naučite na ovom skupu L2-regularizirani model regresije ($\\lambda = 0.01$)."
   ]
  },
  {
   "cell_type": "code",
   "execution_count": 105,
   "metadata": {},
   "outputs": [
    {
     "data": {
      "text/plain": [
       "array([0.81630364, 0.07583957, 0.07583957])"
      ]
     },
     "execution_count": 105,
     "metadata": {},
     "output_type": "execute_result"
    }
   ],
   "source": [
    "# Vaš kôd ovdje\n",
    "\n",
    "l = 0.01\n",
    "\n",
    "reg = Ridge(alpha=l)\n",
    "reg.fit(grades_X_fixed_colinear, grades_y_fixed)\n",
    "\n",
    "reg.coef_"
   ]
  },
  {
   "cell_type": "markdown",
   "metadata": {},
   "source": [
    "**Q:** Usporedite iznose težina s onima koje ste dobili u zadatku *7b*. Što se dogodilo?"
   ]
  },
  {
   "cell_type": "markdown",
   "metadata": {},
   "source": [
    "**b)** Slučajno uzorkujte 50% elemenata iz skupa `grades_X_fixed_colinear` i naučite dva modela L2-regularizirane regresije, jedan s $\\lambda=0.01$ i jedan s $\\lambda=1000$). Ponovite ovaj pokus 10 puta (svaki put s drugim podskupom od 50% elemenata).  Za svaki model, ispišite dobiveni vektor težina u svih 10 ponavljanja te ispišite standardnu devijaciju vrijednosti svake od težina (ukupno šest standardnih devijacija, svaka dobivena nad 10 vrijednosti)."
   ]
  },
  {
   "cell_type": "code",
   "execution_count": 107,
   "metadata": {},
   "outputs": [
    {
     "name": "stdout",
     "output_type": "stream",
     "text": [
      "[[0.8166461  0.04786783 0.04786783]\n",
      " [0.84243676 0.03456735 0.03456735]\n",
      " [0.82462855 0.07854138 0.07854138]\n",
      " [0.80147784 0.08675236 0.08675236]\n",
      " [0.7784359  0.08302209 0.08302209]\n",
      " [0.79258621 0.04494513 0.04494513]\n",
      " [0.79387801 0.08464899 0.08464899]\n",
      " [0.79774862 0.07973957 0.07973957]\n",
      " [0.83490906 0.04738803 0.04738803]\n",
      " [0.776666   0.08083519 0.08083519]]\n",
      "\n",
      "[[0.18454328 0.03736452 0.03736452]\n",
      " [0.16856262 0.02024148 0.02024148]\n",
      " [0.16986241 0.03884921 0.03884921]\n",
      " [0.16023028 0.03665605 0.03665605]\n",
      " [0.16191573 0.03891344 0.03891344]\n",
      " [0.15988938 0.01678582 0.01678582]\n",
      " [0.15950805 0.03136108 0.03136108]\n",
      " [0.16295753 0.03915272 0.03915272]\n",
      " [0.18160691 0.02527122 0.02527122]\n",
      " [0.14851059 0.04232496 0.04232496]]\n",
      "Std deviations\n",
      "[0.02158557 0.0193234  0.0193234 ]\n",
      "[0.01026121 0.00844725 0.00844725]\n"
     ]
    }
   ],
   "source": [
    "# Vaš kôd ovdje\n",
    "\n",
    "l1 = 0.01\n",
    "l2 = 1000\n",
    "\n",
    "W1 = []\n",
    "W2 = []\n",
    "\n",
    "for i in range(10):\n",
    "    train_indices = np.random.choice(len(grades_X_fixed_colinear), int(len(grades_X_fixed_colinear) / 2))\n",
    "    X = []\n",
    "    y = []\n",
    "    for index in train_indices:\n",
    "        X.append(grades_X_fixed_colinear[index])\n",
    "        y.append(grades_y_fixed[index])\n",
    "    \n",
    "    X = np.array(X)\n",
    "    \n",
    "    reg = Ridge(alpha=l1)\n",
    "    reg.fit(X, y)\n",
    "    W1.append(reg.coef_)\n",
    "    \n",
    "    reg = Ridge(alpha=l2)\n",
    "    reg.fit(X, y)\n",
    "    W2.append(reg.coef_)\n",
    "\n",
    "W1 = np.array(W1)\n",
    "W2 = np.array(W2)\n",
    "\n",
    "print(W1)\n",
    "print()\n",
    "print(W2)\n",
    "\n",
    "scaler = StandardScaler()\n",
    "scaler.fit(W1)\n",
    "var1 = np.sqrt(scaler.var_)\n",
    "\n",
    "scaler = StandardScaler()\n",
    "scaler.fit(W2)\n",
    "var2 = np.sqrt(scaler.var_)\n",
    "\n",
    "print(\"Std deviations\")\n",
    "print(var1)\n",
    "print(var2)\n",
    "    "
   ]
  },
  {
   "cell_type": "markdown",
   "metadata": {},
   "source": [
    "**Q:** Kako regularizacija utječe na stabilnost težina?  \n",
    "**Q:** Jesu li koeficijenti jednakih magnituda kao u prethodnom pokusu? Objasnite zašto."
   ]
  },
  {
   "cell_type": "markdown",
   "metadata": {},
   "source": [
    "**c)** Koristeći [`numpy.linalg.cond`](https://docs.scipy.org/doc/numpy-1.13.0/reference/generated/numpy.linalg.cond.html) izračunajte kondicijski broj matrice $\\mathbf{\\Phi}^\\intercal\\mathbf{\\Phi}+\\lambda\\mathbf{I}$, gdje je $\\mathbf{\\Phi}$ matrica dizajna (`grades_X_fixed_colinear`). Ponovite i za $\\lambda=0.01$ i za $\\lambda=10$.\n"
   ]
  },
  {
   "cell_type": "code",
   "execution_count": 120,
   "metadata": {},
   "outputs": [
    {
     "name": "stdout",
     "output_type": "stream",
     "text": [
      "Without regularization\n",
      "inf\n",
      "\n",
      "Lambda = 0.01\n",
      "100542.85592820004\n",
      "\n",
      "Lambda = 10\n",
      "101.53146069838155\n"
     ]
    }
   ],
   "source": [
    "from numpy.linalg import cond\n",
    "# Vaš kôd ovdje\n",
    "phi = grades_X_fixed_colinear\n",
    "print(\"Without regularization\")\n",
    "\n",
    "product = np.matmul(phi.T, phi)\n",
    "print(cond(product))\n",
    "\n",
    "print(\"\\nLambda = 0.01\")\n",
    "I = np.identity(len(phi[0]))\n",
    "I[0][0] = 0\n",
    "lI = I * 0.01\n",
    "print(cond(product + lI))\n",
    "\n",
    "print(\"\\nLambda = 10\")\n",
    "I = np.identity(len(phi[0]))\n",
    "I[0][0] = 0\n",
    "lI = I * 10\n",
    "print(cond(product + lI))\n"
   ]
  },
  {
   "cell_type": "markdown",
   "metadata": {},
   "source": [
    "**Q:** Kako regularizacija utječe na kondicijski broj matrice $\\mathbf{\\Phi}^\\intercal\\mathbf{\\Phi}+\\lambda\\mathbf{I}$?  "
   ]
  }
 ],
 "metadata": {
  "anaconda-cloud": {},
  "kernelspec": {
   "display_name": "Python 3",
   "language": "python",
   "name": "python3"
  },
  "language_info": {
   "codemirror_mode": {
    "name": "ipython",
    "version": 3
   },
   "file_extension": ".py",
   "mimetype": "text/x-python",
   "name": "python",
   "nbconvert_exporter": "python",
   "pygments_lexer": "ipython3",
   "version": "3.7.2"
  }
 },
 "nbformat": 4,
 "nbformat_minor": 1
}
